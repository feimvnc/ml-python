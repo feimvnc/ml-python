{
 "cells": [
  {
   "cell_type": "code",
   "execution_count": null,
   "id": "ccc9158f",
   "metadata": {},
   "outputs": [],
   "source": [
    "# src: https://www.youtube.com/watch?v=ZB7BZMhfPgk\n",
    "# Introduction to numerical computing with numpy "
   ]
  },
  {
   "cell_type": "code",
   "execution_count": 3,
   "id": "99bcc044",
   "metadata": {},
   "outputs": [
    {
     "data": {
      "text/plain": [
       "[1, 2, 3, 4, 5, 6, 7, 8]"
      ]
     },
     "execution_count": 3,
     "metadata": {},
     "output_type": "execute_result"
    }
   ],
   "source": [
    "# python add 2 arrays\n",
    "a = [1,2,3,4]\n",
    "b = [5,6,7,8]\n",
    "a+b   # this is concatenate, not pair-wise addition"
   ]
  },
  {
   "cell_type": "code",
   "execution_count": 8,
   "id": "e9a4b2fe",
   "metadata": {},
   "outputs": [
    {
     "data": {
      "text/plain": [
       "[6, 8, 10, 12]"
      ]
     },
     "execution_count": 8,
     "metadata": {},
     "output_type": "execute_result"
    }
   ],
   "source": [
    "result = []\n",
    "for first, second in zip(a, b):\n",
    "    result.append(first +second)\n",
    "result     # this is pair-wise addition, what we expected\n",
    "\n",
    "# this is what numpy can help \n"
   ]
  },
  {
   "cell_type": "code",
   "execution_count": 21,
   "id": "86343a2a",
   "metadata": {},
   "outputs": [
    {
     "data": {
      "text/plain": [
       "numpy.ndarray"
      ]
     },
     "execution_count": 21,
     "metadata": {},
     "output_type": "execute_result"
    }
   ],
   "source": [
    "# intro of np array\n",
    "import numpy as np   # np prefix \n",
    "\n",
    "a = np.array([1,2,3,4])\n",
    "type(a)\n",
    "# numpy.ndarray, nd = n-dimensional, int64 : 64bit int"
   ]
  },
  {
   "cell_type": "code",
   "execution_count": 22,
   "id": "a4cc62a2",
   "metadata": {},
   "outputs": [
    {
     "data": {
      "text/plain": [
       "dtype('int64')"
      ]
     },
     "execution_count": 22,
     "metadata": {},
     "output_type": "execute_result"
    }
   ],
   "source": [
    "a.dtype  # enforce data type"
   ]
  },
  {
   "cell_type": "code",
   "execution_count": 23,
   "id": "cbe57c19",
   "metadata": {},
   "outputs": [
    {
     "data": {
      "text/plain": [
       "dtype('float64')"
      ]
     },
     "execution_count": 23,
     "metadata": {},
     "output_type": "execute_result"
    }
   ],
   "source": [
    "f = np.array([1.1, 2.2, 3.3])\n",
    "f.dtype   # float64 : floating type"
   ]
  },
  {
   "cell_type": "code",
   "execution_count": 24,
   "id": "a7ae2f1f",
   "metadata": {},
   "outputs": [
    {
     "data": {
      "text/plain": [
       "1"
      ]
     },
     "execution_count": 24,
     "metadata": {},
     "output_type": "execute_result"
    }
   ],
   "source": [
    "# access array value\n",
    "a[0]"
   ]
  },
  {
   "cell_type": "code",
   "execution_count": 25,
   "id": "9d39d65c",
   "metadata": {},
   "outputs": [
    {
     "data": {
      "text/plain": [
       "10"
      ]
     },
     "execution_count": 25,
     "metadata": {},
     "output_type": "execute_result"
    }
   ],
   "source": [
    "# assign array value\n",
    "a[0]=10\n",
    "a[0]"
   ]
  },
  {
   "cell_type": "code",
   "execution_count": 27,
   "id": "78c75da8",
   "metadata": {},
   "outputs": [
    {
     "data": {
      "text/plain": [
       "array([10,  2,  3,  4])"
      ]
     },
     "execution_count": 27,
     "metadata": {},
     "output_type": "execute_result"
    }
   ],
   "source": [
    "# assign float to int array, floating point is truncated\n",
    "a[0]= 10.5\n",
    "a   # [10,  2,  3,  4], .5 is truncated\n"
   ]
  },
  {
   "cell_type": "code",
   "execution_count": 26,
   "id": "c6fb150c",
   "metadata": {},
   "outputs": [
    {
     "data": {
      "text/plain": [
       "array([10,  2,  3,  4])"
      ]
     },
     "execution_count": 26,
     "metadata": {},
     "output_type": "execute_result"
    }
   ],
   "source": [
    "# check array value changed \n",
    "a"
   ]
  },
  {
   "cell_type": "code",
   "execution_count": 28,
   "id": "2e9f3de9",
   "metadata": {},
   "outputs": [
    {
     "data": {
      "text/plain": [
       "1"
      ]
     },
     "execution_count": 28,
     "metadata": {},
     "output_type": "execute_result"
    }
   ],
   "source": [
    "# few ndarray features \n",
    "a.ndim   # number of dimennsions "
   ]
  },
  {
   "cell_type": "code",
   "execution_count": 29,
   "id": "fbe11e12",
   "metadata": {},
   "outputs": [
    {
     "data": {
      "text/plain": [
       "(4,)"
      ]
     },
     "execution_count": 29,
     "metadata": {},
     "output_type": "execute_result"
    }
   ],
   "source": [
    "# shape, possibly the most important one , always a tuple \n",
    "# show number of elements in each dimensions, 2d has 2 element, 3d has 3 elements\n",
    "# here shape is similar to matplot.shape\n",
    "\n",
    "a.shape"
   ]
  },
  {
   "cell_type": "code",
   "execution_count": 30,
   "id": "12ff9b27",
   "metadata": {},
   "outputs": [
    {
     "data": {
      "text/plain": [
       "4"
      ]
     },
     "execution_count": 30,
     "metadata": {},
     "output_type": "execute_result"
    }
   ],
   "source": [
    "# shape is different from size, which is the number of the element \n",
    "a.size"
   ]
  },
  {
   "cell_type": "code",
   "execution_count": 33,
   "id": "228ce4f8",
   "metadata": {},
   "outputs": [
    {
     "name": "stdout",
     "output_type": "stream",
     "text": [
      "[2.1 4.2 6.3 8.4] [-0.1 -0.2 -0.3 -0.4] [ 1.1  4.4  9.9 17.6] [0.90909091 0.90909091 0.90909091 0.90909091]\n"
     ]
    }
   ],
   "source": [
    "# how can we do with np array, do element wise operation, they are not matrix\n",
    "a = np.array([1,2,3,4])\n",
    "f = np.array([1.1, 2.2, 3.3, 4.4])\n",
    "a + f  # pair wise addition\n",
    "print(a+f, a-f, a*f, a/f)"
   ]
  },
  {
   "cell_type": "code",
   "execution_count": 35,
   "id": "3344f4d2",
   "metadata": {},
   "outputs": [
    {
     "data": {
      "text/plain": [
       "array([  1.1   ,   4.84  ,  35.937 , 374.8096])"
      ]
     },
     "execution_count": 35,
     "metadata": {},
     "output_type": "execute_result"
    }
   ],
   "source": [
    "# vectorization, using single statement without loop \n",
    "f ** a"
   ]
  },
  {
   "cell_type": "code",
   "execution_count": 36,
   "id": "32953b36",
   "metadata": {},
   "outputs": [
    {
     "data": {
      "text/plain": [
       "array([10, 20, 30, 40])"
      ]
     },
     "execution_count": 36,
     "metadata": {},
     "output_type": "execute_result"
    }
   ],
   "source": [
    "# multiple by constant, apply to all elelemnt \n",
    "a * 10"
   ]
  },
  {
   "cell_type": "code",
   "execution_count": 38,
   "id": "d927b98e",
   "metadata": {},
   "outputs": [
    {
     "data": {
      "text/plain": [
       "array([ 0.84147098,  0.90929743,  0.14112001, -0.7568025 ])"
      ]
     },
     "execution_count": 38,
     "metadata": {},
     "output_type": "execute_result"
    }
   ],
   "source": [
    "# tools, called Universal Functions (ufuncs), math functions\n",
    "# for each element in the array\n",
    "np.sin(a)"
   ]
  },
  {
   "cell_type": "code",
   "execution_count": 39,
   "id": "0d0802f8",
   "metadata": {},
   "outputs": [],
   "source": [
    "# np.array is a list, mutable, can assign values , enforce data types by casting\n"
   ]
  },
  {
   "cell_type": "code",
   "execution_count": 42,
   "id": "7175369d",
   "metadata": {},
   "outputs": [
    {
     "data": {
      "text/plain": [
       "array([[0, 1, 2, 3],\n",
       "       [4, 5, 6, 7]])"
      ]
     },
     "execution_count": 42,
     "metadata": {},
     "output_type": "execute_result"
    }
   ],
   "source": [
    "# multi-dimensional arrays, list of lists\n",
    "a = np.array([[0,1,2,3], [4,5,6,7]])\n",
    "a"
   ]
  },
  {
   "cell_type": "code",
   "execution_count": 46,
   "id": "1f744b17",
   "metadata": {},
   "outputs": [
    {
     "data": {
      "text/plain": [
       "(2, 4)"
      ]
     },
     "execution_count": 46,
     "metadata": {},
     "output_type": "execute_result"
    }
   ],
   "source": [
    "# shape = (row, columns)\n",
    "a.shape"
   ]
  },
  {
   "cell_type": "code",
   "execution_count": 47,
   "id": "0096c91d",
   "metadata": {},
   "outputs": [
    {
     "data": {
      "text/plain": [
       "2"
      ]
     },
     "execution_count": 47,
     "metadata": {},
     "output_type": "execute_result"
    }
   ],
   "source": [
    "# number of dimensions\n",
    "a.ndim"
   ]
  },
  {
   "cell_type": "code",
   "execution_count": 48,
   "id": "d408a126",
   "metadata": {},
   "outputs": [
    {
     "data": {
      "text/plain": [
       "8"
      ]
     },
     "execution_count": 48,
     "metadata": {},
     "output_type": "execute_result"
    }
   ],
   "source": [
    "# total element count\n",
    "a.size"
   ]
  },
  {
   "cell_type": "code",
   "execution_count": 51,
   "id": "550dab2a",
   "metadata": {},
   "outputs": [
    {
     "data": {
      "text/plain": [
       "array([[ 0,  1,  2,  3],\n",
       "       [ 4,  5,  6, 10]])"
      ]
     },
     "execution_count": 51,
     "metadata": {},
     "output_type": "execute_result"
    }
   ],
   "source": [
    "# get / set elements , python uses 0-based indexing\n",
    "a[1,3] = 10   # [row, column]\n",
    "a"
   ]
  },
  {
   "cell_type": "code",
   "execution_count": 52,
   "id": "d0bc76a6",
   "metadata": {},
   "outputs": [
    {
     "data": {
      "text/plain": [
       "array([ 4,  5,  6, 10])"
      ]
     },
     "execution_count": 52,
     "metadata": {},
     "output_type": "execute_result"
    }
   ],
   "source": [
    "# single index to get elements of that dimension\n",
    "a[1]   # 2nd row"
   ]
  },
  {
   "cell_type": "code",
   "execution_count": 59,
   "id": "7ebe4137",
   "metadata": {},
   "outputs": [
    {
     "data": {
      "text/plain": [
       "[1, 3, 5]"
      ]
     },
     "execution_count": 59,
     "metadata": {},
     "output_type": "execute_result"
    }
   ],
   "source": [
    "# numpy indexing and slicing \n",
    "# slicing, var[lower:upper:step]\n",
    "a = [1,2,3,4,5]\n",
    "a[1:3]  # [2, 3]\n",
    "a[1:-2]  # negative indices work also\n",
    "a[-4:3]  # [2, 3]\n",
    "\n",
    "# omit indices, assumed to be the beginning or end of the list \n",
    "a[:3]   # [1, 2, 3]\n",
    "a[-2:]   # [4, 5], grab last 2 elements\n",
    "a[::2]   # every other element"
   ]
  },
  {
   "cell_type": "code",
   "execution_count": 102,
   "id": "7403b1ef",
   "metadata": {},
   "outputs": [
    {
     "data": {
      "text/plain": [
       "array([[ 1,  2,  3,  4],\n",
       "       [ 5,  6,  7,  8],\n",
       "       [10, 11, 12, 13],\n",
       "       [20, 21, 22, 23]])"
      ]
     },
     "execution_count": 102,
     "metadata": {},
     "output_type": "execute_result"
    }
   ],
   "source": [
    "# array slicing, apply to row and elements \n",
    "a = np.array([[1,2,3,4], [5,6,7,8], [10,11,12,13], [20,21,22,23]])\n",
    "a"
   ]
  },
  {
   "cell_type": "code",
   "execution_count": 106,
   "id": "c0209101",
   "metadata": {},
   "outputs": [
    {
     "data": {
      "text/plain": [
       "array([[10, 12]])"
      ]
     },
     "execution_count": 106,
     "metadata": {},
     "output_type": "execute_result"
    }
   ],
   "source": [
    "# first row, 1-3 elements\n",
    "a[0, 1:3]   # [2, 3]\n",
    "a[2:, 2:]   # [[6, 7, 8], throw away 2 rows, 2 columns\n",
    "# every row, column number 2\n",
    "a[:, 2]     # [ 3,  7, 12, 22], column selection, lonly colon: everything in that dimension\n",
    "a[2::2, ::2]    # row to the end every other, column from beginning till 2nd from end"
   ]
  },
  {
   "cell_type": "code",
   "execution_count": 109,
   "id": "6d134b61",
   "metadata": {},
   "outputs": [
    {
     "data": {
      "text/plain": [
       "array([[ 0,  1,  2,  3,  4],\n",
       "       [ 5,  6,  7,  8,  9],\n",
       "       [10, 11, 12, 13, 14],\n",
       "       [15, 16, 17, 18, 19],\n",
       "       [20, 21, 22, 23, 24]])"
      ]
     },
     "execution_count": 109,
     "metadata": {},
     "output_type": "execute_result"
    }
   ],
   "source": [
    "# create an array \n",
    "a = np.arange(25).reshape(5,5)\n",
    "a"
   ]
  },
  {
   "cell_type": "code",
   "execution_count": 111,
   "id": "e1165a84",
   "metadata": {},
   "outputs": [
    {
     "data": {
      "text/plain": [
       "array([[ 1,  3],\n",
       "       [ 6,  8],\n",
       "       [11, 13],\n",
       "       [16, 18],\n",
       "       [21, 23]])"
      ]
     },
     "execution_count": 111,
     "metadata": {},
     "output_type": "execute_result"
    }
   ],
   "source": [
    "# a[:,::]   # 2d needs a comma, and :: for slicing\n",
    "a[:, 1::2]  # start from 2nd column, every other column"
   ]
  },
  {
   "cell_type": "code",
   "execution_count": 112,
   "id": "6a79661f",
   "metadata": {},
   "outputs": [
    {
     "data": {
      "text/plain": [
       "array([20, 21, 22, 23, 24])"
      ]
     },
     "execution_count": 112,
     "metadata": {},
     "output_type": "execute_result"
    }
   ],
   "source": [
    "a[4, :]  # row number 4 and every elements"
   ]
  },
  {
   "cell_type": "code",
   "execution_count": 113,
   "id": "6d5c4780",
   "metadata": {},
   "outputs": [
    {
     "data": {
      "text/plain": [
       "array([20, 21, 22, 23, 24])"
      ]
     },
     "execution_count": 113,
     "metadata": {},
     "output_type": "execute_result"
    }
   ],
   "source": [
    "a[-1, :]   # -1 means last row, the oldest, newest data; 4 means the fifth row "
   ]
  },
  {
   "cell_type": "code",
   "execution_count": 119,
   "id": "7d33abdf",
   "metadata": {},
   "outputs": [
    {
     "data": {
      "text/plain": [
       "array([[ 5,  7],\n",
       "       [15, 17]])"
      ]
     },
     "execution_count": 119,
     "metadata": {},
     "output_type": "execute_result"
    }
   ],
   "source": [
    "a[1::2,:3:2]   # every other rows, from beginning to 3rd column, every other elements"
   ]
  },
  {
   "cell_type": "code",
   "execution_count": 125,
   "id": "409b15d2",
   "metadata": {},
   "outputs": [
    {
     "data": {
      "text/plain": [
       "(array([-1,  2]), array([-1,  2,  3,  4]))"
      ]
     },
     "execution_count": 125,
     "metadata": {},
     "output_type": "execute_result"
    }
   ],
   "source": [
    "# attention, slicing array uses same underline array, changes are reflected in original array \n",
    "# both correct and incorrect, helps memory sharing/efficiency and mutable arrays surprises\n",
    "a = np.array([1,2,3,4])\n",
    "b = a[:2]\n",
    "b[0] = -1\n",
    "b,a    # (array([-1,  2]), array([-1,  2,  3,  4])) , both changed"
   ]
  },
  {
   "cell_type": "code",
   "execution_count": 130,
   "id": "de7c3fc7",
   "metadata": {},
   "outputs": [
    {
     "data": {
      "text/plain": [
       "(array([-1,  2,  3,  4]), array([10,  2,  3,  4]))"
      ]
     },
     "execution_count": 130,
     "metadata": {},
     "output_type": "execute_result"
    }
   ],
   "source": [
    "b = a.copy()  # this allocate a new diff memory buffer\n",
    "a, b\n",
    "b[0] = 10\n",
    "a,b  # (array([-1,  2,  3,  4]), array([10,  2,  3,  4]))"
   ]
  },
  {
   "cell_type": "code",
   "execution_count": 3,
   "id": "51d5c47d",
   "metadata": {},
   "outputs": [
    {
     "data": {
      "text/plain": [
       "array([ 0,  1,  2,  3, 99, 99])"
      ]
     },
     "execution_count": 3,
     "metadata": {},
     "output_type": "execute_result"
    }
   ],
   "source": [
    "# slices are references \n",
    "# slices are references to locations in memory\n",
    "# these memory locations can be used in assignment operations \n",
    "import numpy as np\n",
    "a = np.array([0,1,2,3,4,5])\n",
    "a[-2:]   # slicing last 2 elements \n",
    "a[-2:] = [-1, -2]   # insert an iterable of length two \n",
    "a[-2:] = 99  # array([ 0,  1,  2,  3, 99, 99]), assign scalar value\n",
    "a"
   ]
  },
  {
   "cell_type": "code",
   "execution_count": 4,
   "id": "520e1f2c",
   "metadata": {},
   "outputs": [],
   "source": [
    "# what does [] and () in python do\n",
    "# a[0]  , syntactic sugar, for a call to __getitem__(0), to get value of index of 0\n",
    "# a[0]=10, for a call to __setitem__(0, 10), [] translates to assignment call\n",
    "# a = np.array([1,2,3]), () is call a function, make np.array.__call__([1,2,3])\n",
    "# Dunder methods, special methods, python data model\n",
    "# Fluent Python, a good intermediate book about python "
   ]
  },
  {
   "cell_type": "code",
   "execution_count": null,
   "id": "373fa2f2",
   "metadata": {},
   "outputs": [],
   "source": [
    "# Fancy indexing (masking, boolean indexing, logical indexing)\n",
    "# indexing by value"
   ]
  },
  {
   "cell_type": "code",
   "execution_count": 12,
   "id": "e1418f30",
   "metadata": {},
   "outputs": [
    {
     "data": {
      "text/plain": [
       "array([ 0, 99, 99, 30, 40, 99, 60, 70])"
      ]
     },
     "execution_count": 12,
     "metadata": {},
     "output_type": "execute_result"
    }
   ],
   "source": [
    "# indexing by position\n",
    "a = np.arange(0, 80, 10)\n",
    "a\n",
    "indices = [1, 2, -3]\n",
    "y = a[indices]\n",
    "a[indices] = 99   # array([ 0, 99, 99, 30, 40, 99, 60, 70])\n",
    "a"
   ]
  },
  {
   "cell_type": "code",
   "execution_count": 19,
   "id": "40bd00ba",
   "metadata": {},
   "outputs": [
    {
     "data": {
      "text/plain": [
       "array([10, 20, 60])"
      ]
     },
     "execution_count": 19,
     "metadata": {},
     "output_type": "execute_result"
    }
   ],
   "source": [
    "# indexing with booleans\n",
    "a = np.arange(0, 80, 10)  # array([ 0, 10, 20, 30, 40, 50, 60, 70])\n",
    "len(a)\n",
    "mask = np.array([0, 1, 1, 0, 0, 0, 1, 0], dtype=bool)\n",
    "len(mask)\n",
    "y = a[mask]   # array([10, 20, 60])\n",
    "y"
   ]
  },
  {
   "cell_type": "code",
   "execution_count": 29,
   "id": "6f47b898",
   "metadata": {},
   "outputs": [
    {
     "data": {
      "text/plain": [
       "array([0, 0, 1, 4, 0, 9, 3])"
      ]
     },
     "execution_count": 29,
     "metadata": {},
     "output_type": "execute_result"
    }
   ],
   "source": [
    "# threshold data \n",
    "a = np.array([-1, -3, 1, 4, -6, 9, 3])\n",
    "a < 0  # array([ True,  True, False, False,  True, False, False])\n",
    "negative = a < 0\n",
    "# get values based on values \n",
    "a[negative]  # array([-1, -3, -6])\n",
    "# replace negative values with 0\n",
    "a[negative] = 0  # array([0, 0, 1, 4, 0, 9, 3])\n",
    "# replace negative values with 0\n"
   ]
  },
  {
   "cell_type": "code",
   "execution_count": 59,
   "id": "3d453d61",
   "metadata": {},
   "outputs": [
    {
     "data": {
      "text/plain": [
       "array([ 2, 13, 16, 19])"
      ]
     },
     "execution_count": 59,
     "metadata": {},
     "output_type": "execute_result"
    }
   ],
   "source": [
    "# Fancy indexing in 2D \n",
    "a = np.arange(25).reshape(5, 5)\n",
    "'''\n",
    "array([[ 0,  1,  2,  3,  4],\n",
    "       [ 5,  6,  7,  8,  9],\n",
    "       [10, 11, 12, 13, 14],\n",
    "       [15, 16, 17, 18, 19],\n",
    "       [20, 21, 22, 23, 24]])\n",
    "'''\n",
    "a[[0], [2]]  # array([2])\n",
    "a[[0,2], [2,3]]  # array([ 2, 13])\n",
    "a[[0,2,3], [2,3,1]]  #array([ 2, 13, 16]), [[rows], [cols]]\n",
    "a[[0,2,3,3], [2,3,1,-1]]   # array([ 2, 13, 16, 19])"
   ]
  },
  {
   "cell_type": "code",
   "execution_count": 61,
   "id": "f1154713",
   "metadata": {},
   "outputs": [
    {
     "data": {
      "text/plain": [
       "array([[0, 1, 2, 0, 1],\n",
       "       [2, 0, 1, 2, 0],\n",
       "       [1, 2, 0, 1, 2],\n",
       "       [0, 1, 2, 0, 1],\n",
       "       [2, 0, 1, 2, 0]])"
      ]
     },
     "execution_count": 61,
     "metadata": {},
     "output_type": "execute_result"
    }
   ],
   "source": [
    "# modular operation\n",
    "a % 3 # all numbers are divided by 3"
   ]
  },
  {
   "cell_type": "code",
   "execution_count": 63,
   "id": "df2877ee",
   "metadata": {},
   "outputs": [
    {
     "data": {
      "text/plain": [
       "array([[[ 0,  1,  2,  3,  4],\n",
       "        [ 5,  6,  7,  8,  9],\n",
       "        [10, 11, 12, 13, 14],\n",
       "        [ 0,  1,  2,  3,  4],\n",
       "        [ 5,  6,  7,  8,  9]],\n",
       "\n",
       "       [[10, 11, 12, 13, 14],\n",
       "        [ 0,  1,  2,  3,  4],\n",
       "        [ 5,  6,  7,  8,  9],\n",
       "        [10, 11, 12, 13, 14],\n",
       "        [ 0,  1,  2,  3,  4]],\n",
       "\n",
       "       [[ 5,  6,  7,  8,  9],\n",
       "        [10, 11, 12, 13, 14],\n",
       "        [ 0,  1,  2,  3,  4],\n",
       "        [ 5,  6,  7,  8,  9],\n",
       "        [10, 11, 12, 13, 14]],\n",
       "\n",
       "       [[ 0,  1,  2,  3,  4],\n",
       "        [ 5,  6,  7,  8,  9],\n",
       "        [10, 11, 12, 13, 14],\n",
       "        [ 0,  1,  2,  3,  4],\n",
       "        [ 5,  6,  7,  8,  9]],\n",
       "\n",
       "       [[10, 11, 12, 13, 14],\n",
       "        [ 0,  1,  2,  3,  4],\n",
       "        [ 5,  6,  7,  8,  9],\n",
       "        [10, 11, 12, 13, 14],\n",
       "        [ 0,  1,  2,  3,  4]]])"
      ]
     },
     "execution_count": 63,
     "metadata": {},
     "output_type": "execute_result"
    }
   ],
   "source": [
    "a[a % 3]  # convert to 3-d arrays, not what we want"
   ]
  },
  {
   "cell_type": "code",
   "execution_count": 66,
   "id": "73f1b020",
   "metadata": {},
   "outputs": [
    {
     "data": {
      "text/plain": [
       "array([ 0,  3,  6,  9, 12, 15, 18, 21, 24])"
      ]
     },
     "execution_count": 66,
     "metadata": {},
     "output_type": "execute_result"
    }
   ],
   "source": [
    "a % 3 == 0  # a mask \n",
    "a[a % 3 ==0]  # numbers divided by 3 with 0, array([ 0,  3,  6,  9, 12, 15, 18, 21, 24])"
   ]
  },
  {
   "cell_type": "code",
   "execution_count": null,
   "id": "4c793a76",
   "metadata": {},
   "outputs": [],
   "source": [
    "# multi-dimensional arrays \n",
    "# numpy uses row major, preserves rows number, prepand dimensions\n",
    "'''\n",
    "(4,) - 1 row, 4 columns\n",
    "(2, 4) - 2 rows, 4 columns \n",
    "(3, 2, 4) - 3 depth, 2 rows, 4 columns\n",
    "(2, 3, 2, 4) - 2 arrays, of, 3 depth, 2 rows, 4 columns\n",
    "'''"
   ]
  },
  {
   "cell_type": "code",
   "execution_count": 69,
   "id": "fcc763db",
   "metadata": {},
   "outputs": [
    {
     "data": {
      "text/plain": [
       "nan"
      ]
     },
     "execution_count": 69,
     "metadata": {},
     "output_type": "execute_result"
    }
   ],
   "source": [
    "# array calculation methods \n",
    "'''\n",
    "rules\n",
    "1, shape match \n",
    "2, (+-*/exp,log,...) apply element by element, on the values \n",
    "3, reduction operations (mean, std, skew, kurt, sum, prod...) apply to the whole array, unless an axis is specified\n",
    "4, missing values propagate unless explicitly ignored (nanmean, nansum)\n",
    "'''\n",
    "np.nan  # nan\n",
    "np.nan + 1   # nan"
   ]
  },
  {
   "cell_type": "code",
   "execution_count": 77,
   "id": "9f1281cc",
   "metadata": {},
   "outputs": [
    {
     "data": {
      "text/plain": [
       "array([[1., 1., 1., 1., 1.]])"
      ]
     },
     "execution_count": 77,
     "metadata": {},
     "output_type": "execute_result"
    }
   ],
   "source": [
    "# array broadcasting - element by element\n",
    "# prepend ones to smaller array's shape\n",
    "import numpy as np \n",
    "a = np.ones((3,5))   # a.shape == (3,5)\n",
    "b = np.ones((5,))    # b.shape = [5,]\n",
    "b.reshape(1,5)    # result is a (1,5)-shaped array\n",
    "b[np.newaxis, :]   # equivlent, more concise"
   ]
  },
  {
   "cell_type": "code",
   "execution_count": 79,
   "id": "b9becfc1",
   "metadata": {},
   "outputs": [
    {
     "data": {
      "text/plain": [
       "array([[2., 2., 2., 2., 2.],\n",
       "       [2., 2., 2., 2., 2.],\n",
       "       [2., 2., 2., 2., 2.]])"
      ]
     },
     "execution_count": 79,
     "metadata": {},
     "output_type": "execute_result"
    }
   ],
   "source": [
    "# dimensions of size 1 are repeated without copying\n",
    "c = a + b  # c.shape == (3,5)\n",
    "# 3 is logically equivalent to ...\n",
    "tmp_b = b.reshape(1,5)\n",
    "tmp_b_repeat = tmp_b.repeat(3, axis=0)\n",
    "c = a + tmp_b_repeat\n",
    "# but broadcasting makes no copies of \"b\"s data!"
   ]
  },
  {
   "cell_type": "code",
   "execution_count": 33,
   "id": "c96d2fce",
   "metadata": {},
   "outputs": [
    {
     "data": {
      "text/plain": [
       "55"
      ]
     },
     "execution_count": 33,
     "metadata": {},
     "output_type": "execute_result"
    }
   ],
   "source": [
    "import numpy as np\n",
    "a = np.array([[1,2,3,4,5], [6,7,8,9,10]])\n",
    "# adding up all the values in an array \n",
    "a.sum()"
   ]
  },
  {
   "cell_type": "code",
   "execution_count": 37,
   "id": "ee17a8f4",
   "metadata": {},
   "outputs": [
    {
     "data": {
      "text/plain": [
       "array([ 7,  9, 11, 13, 15])"
      ]
     },
     "execution_count": 37,
     "metadata": {},
     "output_type": "execute_result"
    }
   ],
   "source": [
    "# sum along 0th axis\n",
    "a.sum(axis=0)"
   ]
  },
  {
   "cell_type": "code",
   "execution_count": 46,
   "id": "8836381a",
   "metadata": {},
   "outputs": [
    {
     "data": {
      "text/plain": [
       "array([15, 40])"
      ]
     },
     "execution_count": 46,
     "metadata": {},
     "output_type": "execute_result"
    }
   ],
   "source": [
    "# sum along last axis, sum of array element, [1,2,3,4,5] = 15, [6,7,8,9,10] = 40\n",
    "# -1 is row wise \n",
    "# -2 is column wise `\n",
    "a.sum(axis=-1)"
   ]
  },
  {
   "cell_type": "code",
   "execution_count": 47,
   "id": "d37bcf78",
   "metadata": {},
   "outputs": [
    {
     "data": {
      "text/plain": [
       "array([[ 1,  2,  3,  4,  5],\n",
       "       [ 6,  7,  8,  9, 10]])"
      ]
     },
     "execution_count": 47,
     "metadata": {},
     "output_type": "execute_result"
    }
   ],
   "source": [
    "a"
   ]
  },
  {
   "cell_type": "code",
   "execution_count": 48,
   "id": "352c47aa",
   "metadata": {
    "scrolled": true
   },
   "outputs": [
    {
     "data": {
      "text/plain": [
       "array([ 7,  9, 11, 13, 15])"
      ]
     },
     "execution_count": 48,
     "metadata": {},
     "output_type": "execute_result"
    }
   ],
   "source": [
    "# sum of pair-wise of rows\n",
    "a.sum(axis=-2)"
   ]
  },
  {
   "cell_type": "code",
   "execution_count": 50,
   "id": "bc2591e2",
   "metadata": {},
   "outputs": [
    {
     "data": {
      "text/plain": [
       "array([[1., 1., 1., 1., 1., 1.],\n",
       "       [1., 1., 1., 1., 1., 1.],\n",
       "       [1., 1., 1., 1., 1., 1.],\n",
       "       [1., 1., 1., 1., 1., 1.],\n",
       "       [1., 1., 1., 1., 1., 1.]])"
      ]
     },
     "execution_count": 50,
     "metadata": {},
     "output_type": "execute_result"
    }
   ],
   "source": [
    "# ((5,6)) - has to be tuple \n",
    "a = np.ones((5,6))\n",
    "a"
   ]
  },
  {
   "cell_type": "code",
   "execution_count": 51,
   "id": "7f853551",
   "metadata": {},
   "outputs": [
    {
     "data": {
      "text/plain": [
       "(5, 6)"
      ]
     },
     "execution_count": 51,
     "metadata": {},
     "output_type": "execute_result"
    }
   ],
   "source": [
    "# check array shape, to help understand how sum works\n",
    "a.shape"
   ]
  },
  {
   "cell_type": "code",
   "execution_count": 55,
   "id": "6d0de266",
   "metadata": {},
   "outputs": [
    {
     "data": {
      "text/plain": [
       "(6,)"
      ]
     },
     "execution_count": 55,
     "metadata": {},
     "output_type": "execute_result"
    }
   ],
   "source": [
    "# this tells how the result shape looks like, it will be six values\n",
    "a.sum(axis=0).shape"
   ]
  },
  {
   "cell_type": "code",
   "execution_count": 56,
   "id": "bc8dc0bf",
   "metadata": {},
   "outputs": [
    {
     "data": {
      "text/plain": [
       "(5,)"
      ]
     },
     "execution_count": 56,
     "metadata": {},
     "output_type": "execute_result"
    }
   ],
   "source": [
    "# this tells sum by rows\n",
    "a.sum(axis=-1).shape"
   ]
  },
  {
   "cell_type": "code",
   "execution_count": 63,
   "id": "9d5b4d6c",
   "metadata": {},
   "outputs": [
    {
     "data": {
      "text/plain": [
       "array([[1, 2, 3],\n",
       "       [4, 5, 6]])"
      ]
     },
     "execution_count": 63,
     "metadata": {},
     "output_type": "execute_result"
    }
   ],
   "source": [
    "# min/max \n",
    "a = np.array([[1,2,3], [4,5,6]])\n",
    "a"
   ]
  },
  {
   "cell_type": "code",
   "execution_count": 61,
   "id": "7e37065d",
   "metadata": {},
   "outputs": [
    {
     "data": {
      "text/plain": [
       "1"
      ]
     },
     "execution_count": 61,
     "metadata": {},
     "output_type": "execute_result"
    }
   ],
   "source": [
    "# reducer \n",
    "np.min(a)"
   ]
  },
  {
   "cell_type": "code",
   "execution_count": 64,
   "id": "27b40cca",
   "metadata": {},
   "outputs": [
    {
     "data": {
      "text/plain": [
       "array([4, 5, 6])"
      ]
     },
     "execution_count": 64,
     "metadata": {},
     "output_type": "execute_result"
    }
   ],
   "source": [
    "# max value for one dimension\n",
    "a.max(axis=0)"
   ]
  },
  {
   "cell_type": "code",
   "execution_count": 65,
   "id": "3c143b2e",
   "metadata": {},
   "outputs": [
    {
     "data": {
      "text/plain": [
       "array([3, 6])"
      ]
     },
     "execution_count": 65,
     "metadata": {},
     "output_type": "execute_result"
    }
   ],
   "source": [
    "a.max(axis=-1)"
   ]
  },
  {
   "cell_type": "code",
   "execution_count": 66,
   "id": "bc4ac3de",
   "metadata": {},
   "outputs": [
    {
     "data": {
      "text/plain": [
       "5"
      ]
     },
     "execution_count": 66,
     "metadata": {},
     "output_type": "execute_result"
    }
   ],
   "source": [
    "# the location of a max, not the value\n",
    "a.argmax()"
   ]
  },
  {
   "cell_type": "code",
   "execution_count": 67,
   "id": "6af9ae76",
   "metadata": {},
   "outputs": [
    {
     "data": {
      "text/plain": [
       "0"
      ]
     },
     "execution_count": 67,
     "metadata": {},
     "output_type": "execute_result"
    }
   ],
   "source": [
    "# the location of the min, \n",
    "a.argmin()"
   ]
  },
  {
   "cell_type": "code",
   "execution_count": 69,
   "id": "568b639f",
   "metadata": {},
   "outputs": [
    {
     "data": {
      "text/plain": [
       "(1, 2)"
      ]
     },
     "execution_count": 69,
     "metadata": {},
     "output_type": "execute_result"
    }
   ],
   "source": [
    "# unravel  un-flatten 1D location of max\n",
    "np.unravel_index(a.argmax(), a.shape)"
   ]
  },
  {
   "cell_type": "code",
   "execution_count": 70,
   "id": "eba16a2c",
   "metadata": {},
   "outputs": [
    {
     "data": {
      "text/plain": [
       "array([1, 2, 3, 4, 5, 5])"
      ]
     },
     "execution_count": 70,
     "metadata": {},
     "output_type": "execute_result"
    }
   ],
   "source": [
    "# where function \n",
    "a = np.array([1,2,3,4,5,5])\n",
    "a"
   ]
  },
  {
   "cell_type": "code",
   "execution_count": 71,
   "id": "66ce9911",
   "metadata": {},
   "outputs": [
    {
     "data": {
      "text/plain": [
       "array([False, False, False, False,  True,  True])"
      ]
     },
     "execution_count": 71,
     "metadata": {},
     "output_type": "execute_result"
    }
   ],
   "source": [
    "# get a mask\n",
    "a == a.max()"
   ]
  },
  {
   "cell_type": "code",
   "execution_count": 73,
   "id": "99fa2339",
   "metadata": {},
   "outputs": [
    {
     "data": {
      "text/plain": [
       "(array([4, 5]),)"
      ]
     },
     "execution_count": 73,
     "metadata": {},
     "output_type": "execute_result"
    }
   ],
   "source": [
    "# find the location of max values\n",
    "np.where(a==a.max())"
   ]
  },
  {
   "cell_type": "code",
   "execution_count": 76,
   "id": "50f867ff",
   "metadata": {},
   "outputs": [
    {
     "data": {
      "text/plain": [
       "(array([3, 4, 5]),)"
      ]
     },
     "execution_count": 76,
     "metadata": {},
     "output_type": "execute_result"
    }
   ],
   "source": [
    "np.where(a > 3)"
   ]
  },
  {
   "cell_type": "code",
   "execution_count": 205,
   "id": "8b96a005",
   "metadata": {
    "scrolled": false
   },
   "outputs": [
    {
     "data": {
      "text/plain": [
       "array([[  0,   1,   2,   3,   4,   5,   6,   7,   8,   9,  10,  11],\n",
       "       [ 12,  13,  14,  15,  16,  17,  18,  19,  20,  21,  22,  23],\n",
       "       [ 24,  25,  26,  27,  28,  29,  30,  31,  32,  33,  34,  35],\n",
       "       [ 36,  37,  38,  39,  40,  41,  42,  43,  44,  45,  46,  47],\n",
       "       [ 48,  49,  50,  51,  52,  53,  54,  55,  56,  57,  58,  59],\n",
       "       [ 60,  61,  62,  63,  64,  65,  66,  67,  68,  69,  70,  71],\n",
       "       [ 72,  73,  74,  75,  76,  77,  78,  79,  80,  81,  82,  83],\n",
       "       [ 84,  85,  86,  87,  88,  89,  90,  91,  92,  93,  94,  95],\n",
       "       [ 96,  97,  98,  99, 100, 101, 102, 103, 104, 105, 106, 107],\n",
       "       [108, 109, 110, 111, 112, 113, 114, 115, 116, 117, 118, 119]])"
      ]
     },
     "execution_count": 205,
     "metadata": {},
     "output_type": "execute_result"
    }
   ],
   "source": [
    "# create a 2d 10x12 array\n",
    "a=np.arange(120, dtype=int).reshape(10,12)\n",
    "a"
   ]
  },
  {
   "cell_type": "code",
   "execution_count": 206,
   "id": "2acf44ee",
   "metadata": {},
   "outputs": [
    {
     "name": "stdout",
     "output_type": "stream",
     "text": [
      "total 184\r\n",
      "-rw-r--r--  1 user  staff    370 30 Mar 23:06 data.csv\r\n",
      "-rw-r--r--  1 user  staff    370 30 Mar 22:45 data.txt\r\n",
      "-rw-r--r--  1 user  staff   1088 30 Mar 22:16 data.txt.npy\r\n",
      "-rw-r--r--  1 user  staff  24857 30 Mar 04:51 dolly-lora-gpt-j-6b.ipynb\r\n",
      "-rw-r--r--  1 user  staff  50115 30 Mar 23:04 numpy-tutoial.ipynb\r\n"
     ]
    }
   ],
   "source": [
    "# save data on disk\n",
    "np.savetxt('data.csv', a, delimiter=',', fmt='%d')\n",
    "!ls -l"
   ]
  },
  {
   "cell_type": "code",
   "execution_count": 210,
   "id": "6f0e7d5c",
   "metadata": {},
   "outputs": [
    {
     "data": {
      "text/plain": [
       "(array([[  0.,   1.,   2., ...,   9.,  10.,  11.],\n",
       "        [ 12.,  13.,  14., ...,  21.,  22.,  23.],\n",
       "        [ 24.,  25.,  26., ...,  33.,  34.,  35.],\n",
       "        ...,\n",
       "        [ 84.,  85.,  86., ...,  93.,  94.,  95.],\n",
       "        [ 96.,  97.,  98., ..., 105., 106., 107.],\n",
       "        [108., 109., 110., ..., 117., 118., 119.]]),\n",
       " (10, 12))"
      ]
     },
     "execution_count": 210,
     "metadata": {},
     "output_type": "execute_result"
    }
   ],
   "source": [
    "# set display options\n",
    "np.set_printoptions(threshold=100)\n",
    "# load file \n",
    "from numpy import loadtxt\n",
    "\n",
    "np.fromstring(x, dtype=int, sep=',')\n",
    "\n",
    "conv = lambda x: np.fromstring(x, dtype=int, sep=',')\n",
    "data = np.genfromtxt('data.csv', dtype=float, delimiter=',')  #loadtxt('data.csv')\n",
    "data, data.shape\n"
   ]
  },
  {
   "cell_type": "code",
   "execution_count": 214,
   "id": "16233b1a",
   "metadata": {},
   "outputs": [
    {
     "data": {
      "text/plain": [
       "array([[ 0.,  1.,  2.,  3.,  4.,  5.,  6.,  7.,  8.,  9., 10., 11.],\n",
       "       [12., 13., 14., 15., 16., 17., 18., 19., 20., 21., 22., 23.],\n",
       "       [24., 25., 26., 27., 28., 29., 30., 31., 32., 33., 34., 35.],\n",
       "       [36., 37., 38., 39., 40., 41., 42., 43., 44., 45., 46., 47.],\n",
       "       [48., 49., 50., 51., 52., 53., 54., 55., 56., 57., 58., 59.]])"
      ]
     },
     "execution_count": 214,
     "metadata": {},
     "output_type": "execute_result"
    }
   ],
   "source": [
    "# show first 5 rows\n",
    "data[:5]"
   ]
  },
  {
   "cell_type": "code",
   "execution_count": 217,
   "id": "f904f591",
   "metadata": {},
   "outputs": [
    {
     "data": {
      "text/plain": [
       "array([[  0.,   1.,   2.],\n",
       "       [ 12.,  13.,  14.],\n",
       "       [ 24.,  25.,  26.],\n",
       "       [ 36.,  37.,  38.],\n",
       "       [ 48.,  49.,  50.],\n",
       "       [ 60.,  61.,  62.],\n",
       "       [ 72.,  73.,  74.],\n",
       "       [ 84.,  85.,  86.],\n",
       "       [ 96.,  97.,  98.],\n",
       "       [108., 109., 110.]])"
      ]
     },
     "execution_count": 217,
     "metadata": {},
     "output_type": "execute_result"
    }
   ],
   "source": [
    "# show first 3 columns\n",
    "first_two_cols = data[:, :3]\n",
    "first_two_cols"
   ]
  },
  {
   "cell_type": "code",
   "execution_count": 220,
   "id": "03b05f8d",
   "metadata": {},
   "outputs": [
    {
     "data": {
      "text/plain": [
       "array([[  3.,   4.,   5.,   6.,   7.,   8.,   9.,  10.,  11.],\n",
       "       [ 15.,  16.,  17.,  18.,  19.,  20.,  21.,  22.,  23.],\n",
       "       [ 27.,  28.,  29.,  30.,  31.,  32.,  33.,  34.,  35.],\n",
       "       [ 39.,  40.,  41.,  42.,  43.,  44.,  45.,  46.,  47.],\n",
       "       [ 51.,  52.,  53.,  54.,  55.,  56.,  57.,  58.,  59.],\n",
       "       [ 63.,  64.,  65.,  66.,  67.,  68.,  69.,  70.,  71.],\n",
       "       [ 75.,  76.,  77.,  78.,  79.,  80.,  81.,  82.,  83.],\n",
       "       [ 87.,  88.,  89.,  90.,  91.,  92.,  93.,  94.,  95.],\n",
       "       [ 99., 100., 101., 102., 103., 104., 105., 106., 107.],\n",
       "       [111., 112., 113., 114., 115., 116., 117., 118., 119.]])"
      ]
     },
     "execution_count": 220,
     "metadata": {},
     "output_type": "execute_result"
    }
   ],
   "source": [
    "# show every row, from column 3\n",
    "data[:, 3:]"
   ]
  },
  {
   "cell_type": "code",
   "execution_count": 224,
   "id": "028824f2",
   "metadata": {},
   "outputs": [
    {
     "data": {
      "text/plain": [
       "(0.0, 119.0, 59.5, 34.63981331743384)"
      ]
     },
     "execution_count": 224,
     "metadata": {},
     "output_type": "execute_result"
    }
   ],
   "source": [
    "# show min, max, mean, std values \n",
    "data.min(), data.max(), data.mean(), data.std()"
   ]
  },
  {
   "cell_type": "code",
   "execution_count": 228,
   "id": "01fd613e",
   "metadata": {},
   "outputs": [
    {
     "data": {
      "text/plain": [
       "(10,)"
      ]
     },
     "execution_count": 228,
     "metadata": {},
     "output_type": "execute_result"
    }
   ],
   "source": [
    "# calculate based on locations\n",
    "# check shape to see how many values do we expect  \n",
    "data.min(axis=-1).shape"
   ]
  },
  {
   "cell_type": "code",
   "execution_count": 234,
   "id": "86524c8f",
   "metadata": {},
   "outputs": [
    {
     "data": {
      "text/plain": [
       "array([ 0.,  1.,  2.,  3.,  4.,  5.,  6.,  7.,  8.,  9., 10., 11.])"
      ]
     },
     "execution_count": 234,
     "metadata": {},
     "output_type": "execute_result"
    }
   ],
   "source": [
    "# min by columns\n",
    "data.min(axis=0)"
   ]
  },
  {
   "cell_type": "code",
   "execution_count": 235,
   "id": "10df06b4",
   "metadata": {},
   "outputs": [
    {
     "data": {
      "text/plain": [
       "array([ 11.,  23.,  35.,  47.,  59.,  71.,  83.,  95., 107., 119.])"
      ]
     },
     "execution_count": 235,
     "metadata": {},
     "output_type": "execute_result"
    }
   ],
   "source": [
    "# max by rows\n",
    "data.max(axis=1)"
   ]
  },
  {
   "cell_type": "code",
   "execution_count": 252,
   "id": "885486ee",
   "metadata": {},
   "outputs": [
    {
     "data": {
      "text/plain": [
       "array([11, 11, 11, 11, 11, 11, 11, 11, 11, 11])"
      ]
     },
     "execution_count": 252,
     "metadata": {},
     "output_type": "execute_result"
    }
   ],
   "source": [
    "# get indices of max values\n",
    "data.argmax(axis=1)"
   ]
  },
  {
   "cell_type": "code",
   "execution_count": 253,
   "id": "6b414abc",
   "metadata": {},
   "outputs": [
    {
     "data": {
      "text/plain": [
       "array([0, 0, 0, 0, 0, 0, 0, 0, 0, 0])"
      ]
     },
     "execution_count": 253,
     "metadata": {},
     "output_type": "execute_result"
    }
   ],
   "source": [
    "# get indices of min values\n",
    "data.argmin(axis=1)"
   ]
  },
  {
   "cell_type": "code",
   "execution_count": 255,
   "id": "f27ad51f",
   "metadata": {},
   "outputs": [
    {
     "data": {
      "text/plain": [
       "(array([9]), array([11]))"
      ]
     },
     "execution_count": 255,
     "metadata": {},
     "output_type": "execute_result"
    }
   ],
   "source": [
    "# find the location of max value \n",
    "np.where(data == data.max())"
   ]
  },
  {
   "cell_type": "code",
   "execution_count": 259,
   "id": "145c9467",
   "metadata": {},
   "outputs": [
    {
     "data": {
      "text/plain": [
       "(119, (9, 11))"
      ]
     },
     "execution_count": 259,
     "metadata": {},
     "output_type": "execute_result"
    }
   ],
   "source": [
    "# unravel index to get same value\n",
    "data.argmax(), np.unravel_index(data.argmax(), data.shape)"
   ]
  },
  {
   "cell_type": "code",
   "execution_count": 262,
   "id": "504bbb58",
   "metadata": {},
   "outputs": [
    {
     "data": {
      "text/plain": [
       "array([ 11.,  23.,  35.,  47.,  59.,  71.,  83.,  95., 107., 119.])"
      ]
     },
     "execution_count": 262,
     "metadata": {},
     "output_type": "execute_result"
    }
   ],
   "source": [
    "# collect the row max data all in one array\n",
    "data.max(axis=1)"
   ]
  },
  {
   "cell_type": "code",
   "execution_count": 264,
   "id": "07dd5cf6",
   "metadata": {},
   "outputs": [
    {
     "data": {
      "text/plain": [
       "9"
      ]
     },
     "execution_count": 264,
     "metadata": {},
     "output_type": "execute_result"
    }
   ],
   "source": [
    "# find row which has the max value \n",
    "data.max(axis=1).argmax()"
   ]
  },
  {
   "cell_type": "code",
   "execution_count": 275,
   "id": "ab385623",
   "metadata": {},
   "outputs": [
    {
     "data": {
      "text/plain": [
       "array([ True, False, False, False, False, False, False, False, False,\n",
       "       False])"
      ]
     },
     "execution_count": 275,
     "metadata": {},
     "output_type": "execute_result"
    }
   ],
   "source": [
    "# get column 1 for all rows whose value is 1,. get mask\n",
    "subdata = data[:, 1] == 1\n",
    "subdata"
   ]
  },
  {
   "cell_type": "code",
   "execution_count": 276,
   "id": "fe810d18",
   "metadata": {},
   "outputs": [
    {
     "data": {
      "text/plain": [
       "array([ 0.,  1.,  2.,  3.,  4.,  5.,  6.,  7.,  8.,  9., 10., 11.])"
      ]
     },
     "execution_count": 276,
     "metadata": {},
     "output_type": "execute_result"
    }
   ],
   "source": [
    "# get average based of subdata mask\n",
    "data[subdata].mean(axis=0)"
   ]
  },
  {
   "cell_type": "code",
   "execution_count": null,
   "id": "58839fdf",
   "metadata": {},
   "outputs": [],
   "source": [
    "'''\n",
    "how numpy array is represented in memory \n",
    "\n",
    "memory block: _1, _2, _3, _4, _5, ...    # one long array\n",
    "\n",
    "dtype: * (int64, data type)\n",
    "ndim: 2 \n",
    "shape: 3, 3\n",
    "strides: 24, 8  (memory offset)\n",
    "data: data \n",
    "\n",
    "for a.T  , transpose, not trigger memory copy \n",
    "shape: 3,2\n",
    "stride, 8, 24\n",
    "\n",
    "\n",
    "python view: \n",
    "\n",
    "0 1 2 \n",
    "3 4 5 \n",
    "6 7 8 \n",
    "\n",
    "\n",
    "'''"
   ]
  },
  {
   "cell_type": "code",
   "execution_count": 277,
   "id": "2be7c60c",
   "metadata": {},
   "outputs": [
    {
     "data": {
      "text/plain": [
       "array([0, 1, 2, 3, 4, 5])"
      ]
     },
     "execution_count": 277,
     "metadata": {},
     "output_type": "execute_result"
    }
   ],
   "source": [
    "'''\n",
    "Operations on the array structure\n",
    "Operations that only affect the array structue, not the data\n",
    "can usually be executed without copying memory\n",
    "'''\n",
    "\n",
    "a = np.arange(6)\n",
    "a"
   ]
  },
  {
   "cell_type": "code",
   "execution_count": 278,
   "id": "c66f07e5",
   "metadata": {},
   "outputs": [
    {
     "data": {
      "text/plain": [
       "array([[0, 1, 2],\n",
       "       [3, 4, 5]])"
      ]
     },
     "execution_count": 278,
     "metadata": {},
     "output_type": "execute_result"
    }
   ],
   "source": [
    "# reshape not a new copy of data, the original data does not get reordered.\n",
    "b = a.reshape(2,3)\n",
    "b  # 3 columns, 2 rows\n"
   ]
  },
  {
   "cell_type": "code",
   "execution_count": 279,
   "id": "9852dd03",
   "metadata": {},
   "outputs": [
    {
     "data": {
      "text/plain": [
       "(2, 3)"
      ]
     },
     "execution_count": 279,
     "metadata": {},
     "output_type": "execute_result"
    }
   ],
   "source": [
    "# transpose swaps the order of axes \n",
    "a = np.array([[0,1,2], [3,4,5]])\n",
    "a.shape"
   ]
  },
  {
   "cell_type": "code",
   "execution_count": 280,
   "id": "94f7e2bf",
   "metadata": {},
   "outputs": [
    {
     "data": {
      "text/plain": [
       "(array([[0, 3],\n",
       "        [1, 4],\n",
       "        [2, 5]]),\n",
       " (3, 2))"
      ]
     },
     "execution_count": 280,
     "metadata": {},
     "output_type": "execute_result"
    }
   ],
   "source": [
    "# transpose, two columns, 3 rows \n",
    "a.T, a.T.shape"
   ]
  },
  {
   "cell_type": "code",
   "execution_count": 283,
   "id": "e3074d82",
   "metadata": {},
   "outputs": [
    {
     "data": {
      "text/plain": [
       "((24, 8), (8, 24))"
      ]
     },
     "execution_count": 283,
     "metadata": {},
     "output_type": "execute_result"
    }
   ],
   "source": [
    "# transpose does not mvoe values around memory, it changes \"order\" in the array \n",
    "# transpose is a very low cost operation \n",
    "a.strides, a.T.strides\n"
   ]
  },
  {
   "cell_type": "code",
   "execution_count": 284,
   "id": "e95329fb",
   "metadata": {},
   "outputs": [
    {
     "data": {
      "text/plain": [
       "array([[0, 1],\n",
       "       [2, 3],\n",
       "       [4, 5]])"
      ]
     },
     "execution_count": 284,
     "metadata": {},
     "output_type": "execute_result"
    }
   ],
   "source": [
    "# reshape, shape\n",
    "a=np.array([[0,1,2], [3,4,5]])\n",
    "a.reshape(3,2)"
   ]
  },
  {
   "cell_type": "code",
   "execution_count": 285,
   "id": "2d46cd97",
   "metadata": {},
   "outputs": [
    {
     "data": {
      "text/plain": [
       "(array([0, 1, 2, 3, 4, 5]), (6,))"
      ]
     },
     "execution_count": 285,
     "metadata": {},
     "output_type": "execute_result"
    }
   ],
   "source": [
    "# shape \n",
    "a = np.arange(6)\n",
    "a, a.shape"
   ]
  },
  {
   "cell_type": "code",
   "execution_count": 287,
   "id": "6ade498a",
   "metadata": {},
   "outputs": [
    {
     "data": {
      "text/plain": [
       "array([[0, 1, 2],\n",
       "       [3, 4, 5]])"
      ]
     },
     "execution_count": 287,
     "metadata": {},
     "output_type": "execute_result"
    }
   ],
   "source": [
    "# reshape array in place to 2x3\n",
    "a.shape = (2,3)\n",
    "a"
   ]
  },
  {
   "cell_type": "code",
   "execution_count": 288,
   "id": "4c05c163",
   "metadata": {},
   "outputs": [
    {
     "data": {
      "text/plain": [
       "array([0, 1, 2, 3])"
      ]
     },
     "execution_count": 288,
     "metadata": {},
     "output_type": "execute_result"
    }
   ],
   "source": [
    "# turn ndarray to 1d array, flattten (safe), ravel(efficient)\n",
    "# flatten convert multi-dimensional array into a 1d array\n",
    "# the new array is a copy of the original data \n",
    "a = np.array([[0,1], [2,3]])\n",
    "b = a.flatten()\n",
    "b"
   ]
  },
  {
   "cell_type": "code",
   "execution_count": 289,
   "id": "b79831ba",
   "metadata": {},
   "outputs": [
    {
     "data": {
      "text/plain": [
       "array([10,  1,  2,  3])"
      ]
     },
     "execution_count": 289,
     "metadata": {},
     "output_type": "execute_result"
    }
   ],
   "source": [
    "# change b does not change a \n",
    "b[0]=10\n",
    "b"
   ]
  },
  {
   "cell_type": "code",
   "execution_count": 290,
   "id": "5c078b44",
   "metadata": {},
   "outputs": [
    {
     "data": {
      "text/plain": [
       "array([0, 1, 2, 3])"
      ]
     },
     "execution_count": 290,
     "metadata": {},
     "output_type": "execute_result"
    }
   ],
   "source": [
    "# ravel is the same as flatten, but returnsa reference (view) of array if possible\n",
    "# otherwise teh new array copies the data \n",
    "b = a.ravel()\n",
    "b"
   ]
  },
  {
   "cell_type": "code",
   "execution_count": 291,
   "id": "dc60ebbb",
   "metadata": {},
   "outputs": [
    {
     "data": {
      "text/plain": [
       "(array([10,  1,  2,  3]),\n",
       " array([[10,  1],\n",
       "        [ 2,  3]]))"
      ]
     },
     "execution_count": 291,
     "metadata": {},
     "output_type": "execute_result"
    }
   ],
   "source": [
    "# change b does change a , ***\n",
    "b[0] = 10\n",
    "b, a"
   ]
  },
  {
   "cell_type": "code",
   "execution_count": null,
   "id": "b436c459",
   "metadata": {},
   "outputs": [],
   "source": []
  }
 ],
 "metadata": {
  "kernelspec": {
   "display_name": "Python 3 (ipykernel)",
   "language": "python",
   "name": "python3"
  },
  "language_info": {
   "codemirror_mode": {
    "name": "ipython",
    "version": 3
   },
   "file_extension": ".py",
   "mimetype": "text/x-python",
   "name": "python",
   "nbconvert_exporter": "python",
   "pygments_lexer": "ipython3",
   "version": "3.9.7"
  }
 },
 "nbformat": 4,
 "nbformat_minor": 5
}
