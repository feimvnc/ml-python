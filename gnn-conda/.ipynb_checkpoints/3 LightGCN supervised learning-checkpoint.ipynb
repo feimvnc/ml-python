{
 "cells": [
  {
   "cell_type": "markdown",
   "id": "81df1301",
   "metadata": {},
   "source": [
    "# Self-supervised vs. Supervised Learning\n",
    "\n",
    "Supervised learning on graphs: Labels come from external sources \n",
    "    e.g. predict rating of an interaction n\n",
    "    \n",
    "Self-supervised learning on graphs: Signals come from graphs themselves \n",
    "    e.g. link prediction: predict if two nodes are connected , only \n",
    "    rely on graph data structure \n",
    "    \n",
    "How we construct the graph?\n",
    "    In the supervised learning setting, we want to keep every interaction (good or bad) between nodes, and have teh model learn these interaction since we have explicit labels. So we are going to set rating_threshold to 1.\n",
    "    \n",
    "What loss function do we use? \n",
    "    We plan to use RMSE because it's supervised learning.\n",
    "    "
   ]
  },
  {
   "cell_type": "code",
   "execution_count": 326,
   "id": "29029ae9",
   "metadata": {},
   "outputs": [],
   "source": [
    "%load_ext autoreload\n",
    "%autoreload 2"
   ]
  },
  {
   "cell_type": "markdown",
   "id": "4bfea071",
   "metadata": {},
   "source": [
    "# imports "
   ]
  },
  {
   "cell_type": "code",
   "execution_count": 301,
   "id": "004ec140",
   "metadata": {},
   "outputs": [],
   "source": [
    "# import modules \n",
    "import random \n",
    "from tqdm.notebook import tqdm \n",
    "import pandas as pd \n",
    "import numpy as np \n",
    "import matplotlib.pyplot as plt \n",
    "from sklearn.model_selection import train_test_split \n",
    "from sklearn import model_selection, metrics, preprocessing \n",
    "import copy \n",
    "\n",
    "import torch\n",
    "from torch import nn, optim, Tensor \n",
    "\n",
    "from torch_sparse import SparseTensor, matmul\n",
    "\n",
    "from collections import defaultdict \n",
    "\n",
    "from torch_geometric.utils import structured_negative_sampling \n",
    "from torch_geometric.data import download_url, extract_zip\n",
    "from torch_geometric.nn.conv.gcn_conv import gcn_norm \n",
    "from torch_geometric.nn.conv import MessagePassing \n",
    "from torch_geometric.typing import Adj\n",
    "import torch.nn.functional as F"
   ]
  },
  {
   "cell_type": "markdown",
   "id": "058d7567",
   "metadata": {},
   "source": [
    "# Load Dataset"
   ]
  },
  {
   "cell_type": "code",
   "execution_count": 302,
   "id": "69efcddc",
   "metadata": {},
   "outputs": [
    {
     "name": "stderr",
     "output_type": "stream",
     "text": [
      "Using existing file ml-latest-small.zip\n",
      "Extracting ./ml-latest-small.zip\n"
     ]
    }
   ],
   "source": [
    "# download dataset \n",
    "# https://grouplens.org/datasets/movielens \n",
    "# \"small: 100,000 ratings andd 3,600 tag applications appliedd to 9,000 movies by 600 users, last updated on 9/2018\"\n",
    "url = 'https://files.grouplens.org/datasets/movielens/ml-latest-small.zip'\n",
    "extract_zip(download_url(url, '.'), '.')\n",
    "\n",
    "movie_path = './ml-latest-small/movies.csv'\n",
    "rating_path = './ml-latest-small/ratings.csv'\n",
    "user_path = './ml-latest-small/users.csv'"
   ]
  },
  {
   "cell_type": "code",
   "execution_count": 303,
   "id": "ed51658d",
   "metadata": {},
   "outputs": [],
   "source": [
    "rating_df = pd.read_csv(rating_path)\n",
    "\n",
    "lbl_user = preprocessing.LabelEncoder()\n",
    "lbl_movie = preprocessing.LabelEncoder()\n",
    "\n",
    "rating_df.userId = lbl_user.fit_transform(rating_df.userId.values)\n",
    "rating_df.movieId = lbl_movie.fit_transform(rating_df.movieId.values)"
   ]
  },
  {
   "cell_type": "code",
   "execution_count": 304,
   "id": "c9d738e9",
   "metadata": {},
   "outputs": [
    {
     "name": "stdout",
     "output_type": "stream",
     "text": [
      "609\n",
      "9723\n"
     ]
    }
   ],
   "source": [
    "print(rating_df.userId.max())\n",
    "print(rating_df.movieId.max())\n"
   ]
  },
  {
   "cell_type": "code",
   "execution_count": 305,
   "id": "a512b5b3",
   "metadata": {},
   "outputs": [],
   "source": [
    "# load edges between users and movies \n",
    "#  \n",
    "# args:\n",
    "#     path (str): path to csv file \n",
    "#     src_index_col (str): column name of users\n",
    "#     src_mapping (dict): mapping between row number and user id\n",
    "#     dst_index_col (str): column name of items \n",
    "#     dst_mapping (dict): mapping between row numbers andd item id \n",
    "#     link_index_col (str): column name of user item interaction\n",
    "#     rating_thresholdd (int, optional): Threshold to determine positivity of edge, Defaults to 4\n",
    "#\n",
    "# returns:\n",
    "#     torch.Tensor: 2 by N matrix containing the node ids of N user-item edges\n",
    "def load_edge_csv(df, \n",
    "                 src_index_col,\n",
    "                 dst_index_col,\n",
    "                 link_index_col,\n",
    "                 rating_threshold=3.5):\n",
    "    \n",
    "    edge_index = None \n",
    "    src = [user_id for user_id in df['userId']]\n",
    "    \n",
    "    num_users = len(df['userId'].unique())\n",
    "    \n",
    "    dst = [(movie_id) for movie_id in df['movieId']]\n",
    "    \n",
    "    link_vals = df[link_index_col].values \n",
    "    \n",
    "    edge_attr = torch.from_numpy(df[link_index_col].values).view(-1, 1).to(torch.long) >= rating_threshold\n",
    "    \n",
    "    edge_values = []\n",
    "    \n",
    "    edge_index = [[],[]]\n",
    "    \n",
    "    for i in range(edge_attr.shape[0]):\n",
    "        if edge_attr[i]:\n",
    "            edge_index[0].append(src[i])\n",
    "            edge_index[1].append(dst[i])\n",
    "            edge_values.append(link_vals[i])\n",
    "    \n",
    "    # edge_values is the label we will use for compute training loss \n",
    "    return edge_index, edge_values"
   ]
  },
  {
   "cell_type": "code",
   "execution_count": 306,
   "id": "5d717e0c",
   "metadata": {},
   "outputs": [],
   "source": [
    "edge_index, edge_values = load_edge_csv(\n",
    "    rating_df,\n",
    "    src_index_col='userId',\n",
    "    dst_index_col='movieId',\n",
    "    link_index_col='rating',\n",
    "    rating_threshold=1  # need to use threshold=1 so the model can learn based on RMSE\n",
    ")"
   ]
  },
  {
   "cell_type": "code",
   "execution_count": 307,
   "id": "76fa8f50",
   "metadata": {},
   "outputs": [
    {
     "name": "stdout",
     "output_type": "stream",
     "text": [
      "tensor([[   0,    0,    0,  ...,  609,  609,  609],\n",
      "        [   0,    2,    5,  ..., 9444, 9445, 9485]])\n",
      "torch.Size([2, 99466])\n",
      "tensor([4., 4., 4.,  ..., 5., 5., 3.], dtype=torch.float64)\n",
      "torch.Size([99466])\n"
     ]
    }
   ],
   "source": [
    "# convert to tensor \n",
    "# we use LongTensor here because the .propagate() method in the model either LongTensor or SparseTensor \n",
    "\n",
    "edge_index = torch.LongTensor(edge_index)\n",
    "edge_values = torch.tensor(edge_values)\n",
    "\n",
    "print(edge_index)\n",
    "print(edge_index.size())\n",
    "\n",
    "print(edge_values)\n",
    "print(edge_values.size())"
   ]
  },
  {
   "cell_type": "code",
   "execution_count": 308,
   "id": "d7db8669",
   "metadata": {},
   "outputs": [
    {
     "name": "stdout",
     "output_type": "stream",
     "text": [
      "num_users 610, num_movies 9724\n"
     ]
    }
   ],
   "source": [
    "# split the edges of the graph using a 80/10/10 train/validation/test split\n",
    "# num_users, num_movies = len(user_mapping), len(movie_mapping)\n",
    "\n",
    "num_users = len(rating_df['userId'].unique())\n",
    "num_movies = len(rating_df['movieId'].unique())\n",
    "\n",
    "print(f\"num_users {num_users}, num_movies {num_movies}\")"
   ]
  },
  {
   "cell_type": "code",
   "execution_count": 383,
   "id": "2f79a015",
   "metadata": {},
   "outputs": [],
   "source": [
    "def convert_r_mat_edge_index_to_adj_mat_edge_index(input_edge_index, input_edge_values):\n",
    "    R = torch.zeros((num_users, num_movies))\n",
    "    \n",
    "    for i in range(len(input_edge_index[0])):\n",
    "        row_idx = input_edge_index[0][i]\n",
    "        col_idx = input_edge_index[1][i]\n",
    "        R[row_idx][col_idx] = input_edge_values[i]  # assign actual edge value to Interaction Matrix \n",
    "   \n",
    "    R_transpose = torch.transpose(R, 0, 1)\n",
    "    \n",
    "    # create adj_matrix \n",
    "    adj_mat = torch.zeros((num_users + num_movies, num_users + num_movies))\n",
    "    adj_mat[: num_users, num_users :] = R.clone()\n",
    "    adj_mat[num_users :, : num_users] = R_transpose.clone()\n",
    "    \n",
    "    adj_mat_coo = adj_mat.to_sparse_coo()\n",
    "    adj_mat_coo_indices = adj_mat_coo.indices()\n",
    "    adj_mat_coo_values = adj_mat_coo.values()\n",
    "    return adj_mat_coo_indices, adj_mat_coo_values"
   ]
  },
  {
   "cell_type": "code",
   "execution_count": 384,
   "id": "0e7222bd",
   "metadata": {},
   "outputs": [],
   "source": [
    "def convert_adj_mat_edge_index_to_r_mat_edge_index(input_edge_index, input_edge_values):\n",
    "    \n",
    "    print(num_users, num_movies)\n",
    "#    sparse_input_edge_index = SparseTensor(row=input_edge_index[0],\n",
    "#                                          col=input_edge_index[1],\n",
    "#                                          value = input_edge_values,\n",
    "#\n",
    "# below line throws error, need to fix, borrow from section 2 for now\n",
    "#\n",
    "#                                          sparse_sizes=((num_users + num_movies), num_users + num_movies))\n",
    "    sparse_input_edge_index = SparseTensor(row=input_edge_index[0],\n",
    "                                          col=input_edge_index[1],\n",
    "                                          sparse_sizes=((num_users + num_movies), num_users+num_movies))\n",
    "\n",
    "\n",
    "    \n",
    "\n",
    "    adj_mat = sparse_input_edge_index.to_dense()\n",
    "    interact_mat = adj_mat[: num_users, num_users :]\n",
    "    \n",
    "    r_mat_edge_index = interact_mat.to_sparse_coo().indices()\n",
    "    r_mat_edge_values = interact_mat.to_sparse_coo().values()\n",
    "    \n",
    "    \n",
    "    return r_mat_edge_index, r_mat_edge_values\n",
    "\n"
   ]
  },
  {
   "cell_type": "code",
   "execution_count": 480,
   "id": "65b9013c",
   "metadata": {},
   "outputs": [],
   "source": [
    "num_interactions = edge_index.shape[1]\n",
    "all_indices = [i for i in range(num_interactions)]\n",
    "\n",
    "train_indices, test_indices = train_test_split(all_indices, \n",
    "                                            test_size=0.2,\n",
    "                                            random_state=1)\n",
    "\n",
    "val_indices, test_indices = train_test_split(test_indices,\n",
    "                                             test_size=0.5,\n",
    "                                             random_state=1)"
   ]
  },
  {
   "cell_type": "code",
   "execution_count": 481,
   "id": "16f4259f",
   "metadata": {},
   "outputs": [],
   "source": [
    "train_edge_index = edge_index[:, train_indices]\n",
    "train_edge_value = edge_values[train_indices]\n",
    "\n",
    "val_edge_index = edge_index[:, val_indices]\n",
    "val_edge_value = edge_values[val_indices]\n",
    "\n",
    "test_edge_index = edge_index[:, test_indices]\n",
    "test_edge_value = edge_values[test_indices]"
   ]
  },
  {
   "cell_type": "code",
   "execution_count": 482,
   "id": "e6008711",
   "metadata": {},
   "outputs": [
    {
     "name": "stdout",
     "output_type": "stream",
     "text": [
      "num_users 610, num_movies 9724, num_interactions 99466\n",
      "train_edge_index tensor([[ 239,  102,  225,  ...,   34,  488,  609],\n",
      "        [ 274, 9006,  792,  ...,  260, 1486, 3867]])\n",
      "10334\n",
      "torch.Size([610])\n",
      "torch.Size([8898])\n",
      "tensor([4.5000, 3.5000, 3.5000,  ..., 3.5000, 5.0000, 1.0000],\n",
      "       dtype=torch.float64)\n",
      "torch.Size([9947])\n"
     ]
    }
   ],
   "source": [
    "print(f\"num_users {num_users}, num_movies {num_movies}, num_interactions {num_interactions}\")\n",
    "print(f\"train_edge_index {train_edge_index}\")\n",
    "print((num_users + num_movies))\n",
    "print(torch.unique(train_edge_index[0]).size())\n",
    "print(torch.unique(train_edge_index[1]).size())\n",
    "\n",
    "print(test_edge_value)\n",
    "print(test_edge_value.size())"
   ]
  },
  {
   "cell_type": "code",
   "execution_count": 483,
   "id": "e5ab5c1e",
   "metadata": {},
   "outputs": [],
   "source": [
    "train_edge_index, train_edge_values = convert_r_mat_edge_index_to_adj_mat_edge_index(train_edge_index, train_edge_value)\n",
    "val_edge_index, val_edge_values = convert_r_mat_edge_index_to_adj_mat_edge_index(val_edge_index, val_edge_value)\n",
    "test_edge_index, test_edge_values = convert_r_mat_edge_index_to_adj_mat_edge_index(test_edge_index, test_edge_value)"
   ]
  },
  {
   "cell_type": "code",
   "execution_count": 484,
   "id": "af1d81ae",
   "metadata": {},
   "outputs": [
    {
     "name": "stdout",
     "output_type": "stream",
     "text": [
      "tensor([[    0,     0,     0,  ..., 10331, 10332, 10333],\n",
      "        [  610,   615,   653,  ...,   183,   183,   330]])\n",
      "torch.Size([2, 159144])\n",
      "tensor([[    0,     0,     0,  ..., 10312, 10316, 10327],\n",
      "        [  612,   699,   924,  ...,   247,    49,   183]])\n",
      "torch.Size([2, 19894])\n",
      "tensor([[    0,     0,     0,  ..., 10302, 10307, 10310],\n",
      "        [  656,   734,   746,  ...,   513,   211,   337]])\n",
      "torch.Size([2, 19894])\n",
      "\n",
      " train_edge_values: \n",
      " tensor([4.0000, 4.0000, 5.0000,  ..., 3.5000, 3.5000, 4.0000]) \n",
      " torch.Size([159144])\n",
      "\n",
      " val_edge_values: \n",
      " tensor([4.0000, 5.0000, 4.0000,  ..., 3.5000, 3.5000, 4.0000]) \n",
      " torch.Size([19894])\n",
      "\n",
      " test_edge_values: \n",
      " tensor([5.0000, 5.0000, 5.0000,  ..., 3.0000, 4.5000, 2.5000]) \n",
      " torch.Size([19894])\n"
     ]
    }
   ],
   "source": [
    "print(train_edge_index)\n",
    "print(train_edge_index.size())\n",
    "print(val_edge_index)\n",
    "print(val_edge_index.size())\n",
    "print(test_edge_index)\n",
    "print(test_edge_index.size())\n",
    "\n",
    "print(f\"\\n train_edge_values: \\n {train_edge_values} \\n {train_edge_values.size()}\")\n",
    "print(f\"\\n val_edge_values: \\n {val_edge_values} \\n {val_edge_values.size()}\")\n",
    "print(f\"\\n test_edge_values: \\n {test_edge_values} \\n {test_edge_values.size()}\")"
   ]
  },
  {
   "cell_type": "markdown",
   "id": "576d7c73",
   "metadata": {},
   "source": [
    "# Implementing LightGCN"
   ]
  },
  {
   "cell_type": "code",
   "execution_count": 485,
   "id": "ca63257f",
   "metadata": {},
   "outputs": [],
   "source": [
    "# define LightGCN model \n",
    "class LightGCN(MessagePassing):\n",
    "    def __init__(self, num_users, num_items, embedding_dim=64, K=3, add_self_loops=False, dropout_rate=0.1):\n",
    "        \n",
    "        super().__init__()\n",
    "        self.dropout_rate = dropout_rate \n",
    "        self.num_users = num_users\n",
    "        self.num_items = num_items \n",
    "        self.embedding_dim = embedding_dim \n",
    "        self.K = K\n",
    "        self.add_self_loops = add_self_loops \n",
    "        \n",
    "        self.users_emb = nn.Embedding(num_embeddings=self.num_users, embedding_dim=self.embedding_dim)  # e_u^0\n",
    "        \n",
    "        self.items_emb = nn.Embedding(num_embeddings=self.num_items, embedding_dim=self.embedding_dim)  # e_i^0\n",
    "        \n",
    "        nn.init.normal_(self.users_emb.weight, std=0.1)\n",
    "        nn.init.normal_(self.items_emb.weight, std=0.1)\n",
    "        \n",
    "        self.out = nn.Linear(embedding_dim + embedding_dim, 1)\n",
    "        \n",
    "    def forward(self, edge_index: Tensor, eddge_values: Tensor):\n",
    "        edge_index_norm = gcn_norm(edge_index=edge_index,\n",
    "                                  add_self_loops = self.add_self_loops)\n",
    "        \n",
    "        emb_0 = torch.cat([self.users_emb.weight, self.items_emb.weight])\n",
    "\n",
    "        embs = [emb_0]\n",
    "        emb_k = emb_0\n",
    "        \n",
    "        for i in range(self.K):\n",
    "            emb_k = self.propagate(edge_index=edge_index_norm[0], x=emb_k, norm=edge_index_norm[1])\n",
    "            embs.append(emb_k)\n",
    "            \n",
    "        embs = torch.stack(embs, dim=1)\n",
    "        \n",
    "        emb_final = torch.mean(embs, dim=1)\n",
    "        \n",
    "        users_emb_final, items_emb_final = torch.split(emb_final, \n",
    "                                                      [self.num_users, self.num_items])\n",
    "        \n",
    "        r_mat_edge_index, _ = convert_adj_mat_edge_index_to_r_mat_edge_index(edge_index, edge_values)\n",
    "        \n",
    "        src, dest = r_mat_edge_index[0], r_mat_edge_index[1]\n",
    "        \n",
    "        user_embeds = users_emb_final[src]\n",
    "        items_embeds = items_emb_final[dest]\n",
    "        \n",
    "        output = torch.cat([user_embeds, items_embeds], dim=1)\n",
    "        \n",
    "        output = self.out(output)\n",
    "        \n",
    "        return output\n",
    "    \n",
    "    def message(self, x_j, norm):\n",
    "        return norm.view(-1, 1) * x_j\n",
    "    \n",
    "layers=1\n",
    "model = LightGCN(num_users = num_users,\n",
    "                num_items=num_movies,\n",
    "                K = layers)"
   ]
  },
  {
   "cell_type": "markdown",
   "id": "dafe1bf0",
   "metadata": {},
   "source": [
    "# Training\n",
    "Your test set performance should be in line with the following (K=20)"
   ]
  },
  {
   "cell_type": "code",
   "execution_count": 514,
   "id": "eb480a09",
   "metadata": {},
   "outputs": [],
   "source": [
    "# define constants\n",
    "# ITERATIONS = 10000\n",
    "ITERATIONS = 200\n",
    "EPOCHS = 10\n",
    "\n",
    "BATCH_SIZE = 1024\n",
    "\n",
    "LR = 1e-2\n",
    "\n",
    "ITERS_PER_EVAL = 200\n",
    "ITERS_PER_LR_DECAY = 200\n",
    "\n",
    "K = 10\n",
    "LAMBDA = 1e-6\n"
   ]
  },
  {
   "cell_type": "code",
   "execution_count": 515,
   "id": "de201121",
   "metadata": {},
   "outputs": [
    {
     "name": "stdout",
     "output_type": "stream",
     "text": [
      "BATCH_SIZE 1024\n"
     ]
    }
   ],
   "source": [
    "print(f\"BATCH_SIZE {BATCH_SIZE}\")"
   ]
  },
  {
   "cell_type": "code",
   "execution_count": 516,
   "id": "b6db58dd",
   "metadata": {},
   "outputs": [
    {
     "name": "stdout",
     "output_type": "stream",
     "text": [
      "Using devices cpu.\n"
     ]
    }
   ],
   "source": [
    "# setup \n",
    "device = torch.device('cuda' if torch.cuda.is_available() else 'cpu')\n",
    "print(f\"Using devices {device}.\")\n",
    "\n",
    "model = model.to(device)\n",
    "model.train()\n",
    "\n",
    "# add decay to avoid overfit\n",
    "optimizer = optim.Adam(model.parameters(), lr=LR, weight_decay=0.01)\n",
    "scheduler = optim.lr_scheduler.ExponentialLR(optimizer, gamma=0.95)\n",
    "\n",
    "edge_index = edge_index.to(device)\n",
    "train_edge_index = train_edge_index.to(device)\n",
    "val_edge_index = val_edge_index.to(device)\n",
    "\n",
    "loss_func = nn.MSELoss"
   ]
  },
  {
   "cell_type": "code",
   "execution_count": 517,
   "id": "eda29bc5",
   "metadata": {},
   "outputs": [],
   "source": [
    "def get_recall_at_k(input_edge_index, \n",
    "                   input_edge_values, # the true label of actual ratings for each user/item interaction)\n",
    "                   pred_ratings, # the list of predicteddd ratings\n",
    "                   k = 10,                    \n",
    "                   threshold = 3.5):\n",
    "    \n",
    "    with torch.no_grad():\n",
    "        user_item_rating_list = defaultdict(list)\n",
    "        \n",
    "        for i in range(len(input_edge_index[0])):\n",
    "            src = input_edge_index[0][i].item()\n",
    "            dest = input_edge_index[1][i].item()\n",
    "            true_rating = input_edge_values[i].item()\n",
    "            pred_rating = pred_ratings[i].item()\n",
    "\n",
    "            user_item_rating_list[src].append((pred_rating, true_rating))\n",
    "    \n",
    "    recalls = dict()\n",
    "    precisions = dict()\n",
    "    \n",
    "    for user_id, user_ratings in user_item_rating_list.items():\n",
    "        user_ratings.sort(key=lambda x: x[0], reverse=True)\n",
    "        \n",
    "        n_rel = sum((true_r >= threshold) for (_, true_r) in user_ratings)\n",
    " \n",
    "        n_rec_k = sum((est >= threshold) for (est, _) in user_ratings[:k])\n",
    "    \n",
    "        n_rel_and_rec_k = sum(\n",
    "            ((true_r >= threshold) and (est >= threshold))\n",
    "            for (est, true_r) in user_ratings[:k]\n",
    "        )\n",
    "        \n",
    "        precisions[user_id] = n_rel_and_rec_k / n_rec_k if n_rec_k != 0 else 0\n",
    "        recalls[user_id] = n_rel_and_rec_k / n_rel if n_rel != 0 else 0\n",
    "        \n",
    "    overall_recall = sum(rec for rec in recalls.values()) / len(recalls)\n",
    "    overall_precision = sum(prec for prec in precisions.values()) / len(precisions)\n",
    "    \n",
    "    return overall_recall, overall_precision\n"
   ]
  },
  {
   "cell_type": "code",
   "execution_count": 518,
   "id": "6f45b7cb",
   "metadata": {
    "scrolled": false
   },
   "outputs": [
    {
     "name": "stdout",
     "output_type": "stream",
     "text": [
      "610 9724\n",
      "610 9724\n",
      "610 9724\n"
     ]
    }
   ],
   "source": [
    "# from IPython.core.debugger import set_trace\n",
    "# set_trace()\n",
    "\n",
    "r_mat_train_edge_index, r_mat_train_edge_values = convert_adj_mat_edge_index_to_r_mat_edge_index(train_edge_index, train_edge_values)\n",
    "#print(f\"\\n{val_edge_index.shape}, \\n{val_edge_values.shape}\")\n",
    "r_mat_val_edge_index, r_mat_val_edge_values = convert_adj_mat_edge_index_to_r_mat_edge_index(val_edge_index, val_edge_values)\n",
    "r_mat_test_edge_index, r_mat_test_edge_values = convert_adj_mat_edge_index_to_r_mat_edge_index(test_edge_index, test_edge_values)"
   ]
  },
  {
   "cell_type": "code",
   "execution_count": 525,
   "id": "84daa554",
   "metadata": {},
   "outputs": [
    {
     "data": {
      "text/plain": [
       "[\"# plot recall_at_k curves \\n\\nf2 = plt.figure()\\nplt.plot(iters, val_recall_at_ks, label='recall_at_k')\\nplt.xlabel('iteration')\\nplt.ylabel('recall_at_k')\\nplt.title('recall_at_k_curves')\\nplt.show()\",\n",
       " '_ih[-2:] # code of the 5 most recently run cells']"
      ]
     },
     "execution_count": 525,
     "metadata": {},
     "output_type": "execute_result"
    }
   ],
   "source": [
    "_ih[-2:] # code of the 5 most recently run cells"
   ]
  },
  {
   "cell_type": "code",
   "execution_count": 520,
   "id": "6b590b63",
   "metadata": {},
   "outputs": [
    {
     "data": {
      "application/vnd.jupyter.widget-view+json": {
       "model_id": "33d064e31ca14074990c88ed1d0640c3",
       "version_major": 2,
       "version_minor": 0
      },
      "text/plain": [
       "  0%|          | 0/200 [00:00<?, ?it/s]"
      ]
     },
     "metadata": {},
     "output_type": "display_data"
    },
    {
     "name": "stdout",
     "output_type": "stream",
     "text": [
      "610 9724\n",
      "610 9724\n",
      "610 9724\n",
      "610 9724\n",
      "610 9724\n",
      "610 9724\n",
      "610 9724\n",
      "610 9724\n",
      "610 9724\n",
      "610 9724\n",
      "610 9724\n",
      "610 9724\n",
      "610 9724\n",
      "610 9724\n",
      "610 9724\n",
      "610 9724\n",
      "610 9724\n",
      "610 9724\n",
      "610 9724\n",
      "610 9724\n",
      "610 9724\n",
      "610 9724\n",
      "610 9724\n",
      "610 9724\n",
      "610 9724\n",
      "610 9724\n",
      "610 9724\n",
      "610 9724\n",
      "610 9724\n",
      "610 9724\n",
      "610 9724\n",
      "610 9724\n",
      "610 9724\n",
      "610 9724\n",
      "610 9724\n",
      "610 9724\n",
      "610 9724\n",
      "610 9724\n",
      "610 9724\n",
      "610 9724\n",
      "610 9724\n",
      "610 9724\n",
      "610 9724\n",
      "610 9724\n",
      "610 9724\n",
      "610 9724\n",
      "610 9724\n",
      "610 9724\n",
      "610 9724\n",
      "610 9724\n",
      "610 9724\n",
      "610 9724\n",
      "610 9724\n",
      "610 9724\n",
      "610 9724\n",
      "610 9724\n",
      "610 9724\n",
      "610 9724\n",
      "610 9724\n",
      "610 9724\n",
      "610 9724\n",
      "610 9724\n",
      "610 9724\n",
      "610 9724\n",
      "610 9724\n",
      "610 9724\n",
      "610 9724\n",
      "610 9724\n",
      "610 9724\n",
      "610 9724\n",
      "610 9724\n",
      "610 9724\n",
      "610 9724\n",
      "610 9724\n",
      "610 9724\n",
      "610 9724\n",
      "610 9724\n",
      "610 9724\n",
      "610 9724\n",
      "610 9724\n",
      "610 9724\n",
      "610 9724\n",
      "610 9724\n",
      "610 9724\n",
      "610 9724\n",
      "610 9724\n",
      "610 9724\n",
      "610 9724\n",
      "610 9724\n",
      "610 9724\n",
      "610 9724\n",
      "610 9724\n",
      "610 9724\n",
      "610 9724\n",
      "610 9724\n",
      "610 9724\n",
      "610 9724\n",
      "610 9724\n",
      "610 9724\n",
      "610 9724\n",
      "610 9724\n",
      "610 9724\n",
      "610 9724\n",
      "610 9724\n",
      "610 9724\n",
      "610 9724\n",
      "610 9724\n",
      "610 9724\n",
      "610 9724\n",
      "610 9724\n",
      "610 9724\n",
      "610 9724\n",
      "610 9724\n",
      "610 9724\n",
      "610 9724\n",
      "610 9724\n",
      "610 9724\n",
      "610 9724\n",
      "610 9724\n",
      "610 9724\n",
      "610 9724\n",
      "610 9724\n",
      "610 9724\n",
      "610 9724\n",
      "610 9724\n",
      "610 9724\n",
      "610 9724\n",
      "610 9724\n",
      "610 9724\n",
      "610 9724\n",
      "610 9724\n",
      "610 9724\n",
      "610 9724\n",
      "610 9724\n",
      "610 9724\n",
      "610 9724\n",
      "610 9724\n",
      "610 9724\n",
      "610 9724\n",
      "610 9724\n",
      "610 9724\n",
      "610 9724\n",
      "610 9724\n",
      "610 9724\n",
      "610 9724\n",
      "610 9724\n",
      "610 9724\n",
      "610 9724\n",
      "610 9724\n",
      "610 9724\n",
      "610 9724\n",
      "610 9724\n",
      "610 9724\n",
      "610 9724\n",
      "610 9724\n",
      "610 9724\n",
      "610 9724\n",
      "610 9724\n",
      "610 9724\n",
      "610 9724\n",
      "610 9724\n",
      "610 9724\n",
      "610 9724\n",
      "610 9724\n",
      "610 9724\n",
      "610 9724\n",
      "610 9724\n",
      "610 9724\n",
      "610 9724\n",
      "610 9724\n",
      "610 9724\n",
      "610 9724\n",
      "610 9724\n",
      "610 9724\n",
      "610 9724\n",
      "610 9724\n",
      "610 9724\n",
      "610 9724\n",
      "610 9724\n",
      "610 9724\n",
      "610 9724\n",
      "610 9724\n",
      "610 9724\n",
      "610 9724\n",
      "610 9724\n",
      "610 9724\n",
      "610 9724\n",
      "610 9724\n",
      "610 9724\n",
      "610 9724\n",
      "610 9724\n",
      "610 9724\n",
      "610 9724\n",
      "610 9724\n",
      "610 9724\n",
      "610 9724\n",
      "610 9724\n",
      "610 9724\n",
      "610 9724\n",
      "610 9724\n",
      "610 9724\n"
     ]
    }
   ],
   "source": [
    "# training loop \n",
    "train_losses = []\n",
    "val_losses = []\n",
    "val_recall_at_ks = []\n",
    "\n",
    "for iter in tqdm(range(ITERATIONS)):\n",
    "    # forward propagation \n",
    "    \n",
    "    # the rating here is based on r_mat \n",
    "    pred_ratings = model.forward(train_edge_index, train_edge_values)\n",
    "    \n",
    "#     train_loss = loss_func(pred_ratings, r_mat_train_edge_values.view(-1, 1))\n",
    "    \n",
    "    optimizer.zero_grad()\n",
    "    #train_loss.backward()\n",
    "    optimizer.step()\n",
    "\n",
    "   \n",
    "    # going over validation set \n",
    "    if iter % ITERS_PER_EVAL == 0:\n",
    "        model.eval()\n",
    "        \n",
    "        with torch.no_grad():\n",
    "            val_pred_ratings = model.forward(val_edge_index, val_edge_values)\n",
    "            \n",
    "#             val_loss = loss_func(val_pred_ratings, r_mat_val_edge_values.view(-1, 1)).sum()\n",
    "            \n",
    "            recall_at_k, precision_at_k = get_recall_at_k(r_mat_val_edge_index,\n",
    "                                                         r_mat_val_edge_values, \n",
    "                                                         val_pred_ratings,\n",
    "                                                         k=20\n",
    "                                                         )\n",
    "            \n",
    "            val_recall_at_ks.append(round(recall_at_k, 5))\n",
    "#             train_losses.append(train_loss.item())\n",
    "#             val_losses.append(val_loss.item())    \n",
    "#             print(f\"[Iteration {iter}/{ITERATIONS}], train_loss: {round(train_loss.item(), 5)}, value_loss: {round()}\")\n",
    "    \n",
    "    if iter % ITERS_PER_LR_DECAY == 0 and iter != 0:\n",
    "        scheduler.step()\n",
    "        \n",
    "        "
   ]
  },
  {
   "cell_type": "markdown",
   "id": "34213d98",
   "metadata": {},
   "source": [
    "# Plot (RMSE)"
   ]
  },
  {
   "cell_type": "code",
   "execution_count": 526,
   "id": "6e8ebb09",
   "metadata": {},
   "outputs": [
    {
     "data": {
      "image/png": "[encoded data removed]",
      "text/plain": [
       "<Figure size 640x480 with 1 Axes>"
      ]
     },
     "metadata": {},
     "output_type": "display_data"
    }
   ],
   "source": [
    "iters = [iter * ITERS_PER_EVAL for iter in range(len(train_losses))]\n",
    "plt.plot(iters, train_losses, label='train')\n",
    "plt.plot(iters, val_losses, label='validation')\n",
    "plt.xlabel('iteration')\n",
    "plt.ylabel('loss')\n",
    "plt.title('training and validation loss curves')\n",
    "plt.legend()\n",
    "plt.show()"
   ]
  },
  {
   "cell_type": "code",
   "execution_count": 528,
   "id": "65b6e055",
   "metadata": {},
   "outputs": [],
   "source": [
    "# plot recall_at_k curves \n",
    "# somehow not work, need to check later \n",
    "\n",
    "# f2 = plt.figure()\n",
    "# plt.plot(iters, val_recall_at_ks, label='recall_at_k')\n",
    "# plt.xlabel('iteration')\n",
    "# plt.ylabel('recall_at_k')\n",
    "# plt.title('recall_at_k_curves')\n",
    "# plt.show()"
   ]
  },
  {
   "cell_type": "code",
   "execution_count": null,
   "id": "7b89effe",
   "metadata": {},
   "outputs": [],
   "source": []
  },
  {
   "cell_type": "code",
   "execution_count": null,
   "id": "bc9c48c8",
   "metadata": {},
   "outputs": [],
   "source": []
  }
 ],
 "metadata": {
  "kernelspec": {
   "display_name": "Python 3 (ipykernel)",
   "language": "python",
   "name": "python3"
  },
  "language_info": {
   "codemirror_mode": {
    "name": "ipython",
    "version": 3
   },
   "file_extension": ".py",
   "mimetype": "text/x-python",
   "name": "python",
   "nbconvert_exporter": "python",
   "pygments_lexer": "ipython3",
   "version": "3.7.15"
  }
 },
 "nbformat": 4,
 "nbformat_minor": 5
}
