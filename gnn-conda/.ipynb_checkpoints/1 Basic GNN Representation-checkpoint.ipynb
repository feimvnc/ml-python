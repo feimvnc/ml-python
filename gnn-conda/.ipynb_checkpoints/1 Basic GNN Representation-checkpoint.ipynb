{
 "cells": [
  {
   "cell_type": "code",
   "execution_count": null,
   "id": "37adbe94",
   "metadata": {},
   "outputs": [],
   "source": [
    "# Intro to GNN\n"
   ]
  },
  {
   "cell_type": "markdown",
   "id": "9171d959",
   "metadata": {},
   "source": [
    "import random\n",
    "from tqdm.notebook import tqdm   # progress bar \n",
    "import pandas as pd\n",
    "import numpy as np \n",
    "import matplotlib.pyplot as plt \n",
    "from sklearn.model_selection import train_test_split \n",
    "from sklearn import model_selection, metrics, preprocessing \n",
    "import copy \n",
    "from torch_geometric.utils import degree \n",
    "\n",
    "import torch \n",
    "from torch import nn, optim, Tensor\n",
    "\n",
    "from torch_sparse import SparseTensor, matmul\n",
    "from torch_geometric.utils import structured_negative_sampling \n",
    "from torch_geometric.nn.conv.gcn_conv import gcn_norm \n",
    "from torch_geometric.nn.conv import MessagePassing \n",
    "from torch_geometric.typing import Adj \n",
    "\n",
    "from scipy import sparse "
   ]
  },
  {
   "cell_type": "code",
   "execution_count": null,
   "id": "d5679c90",
   "metadata": {},
   "outputs": [],
   "source": [
    "'''\n",
    "Let's look at following 3 x 4 interaction metrix\n",
    "    items  i1  i2  i3  i4\n",
    "users u1   0   0   1   1\n",
    "      u2   1   0   1   0\n",
    "      u3   0   1   0   0\n",
    "'''"
   ]
  },
  {
   "cell_type": "code",
   "execution_count": 7,
   "id": "4782a0a1",
   "metadata": {},
   "outputs": [
    {
     "name": "stdout",
     "output_type": "stream",
     "text": [
      "[[0 0 1 1]\n",
      " [1 0 1 0]\n",
      " [0 1 0 0]]\n"
     ]
    }
   ],
   "source": [
    "# torch.from_numpy \n",
    "# r_mat here is the interaction matrix above \n",
    "r_mat = np.array([[0, 0, 1, 1],\n",
    "                 [1, 0, 1, 0],\n",
    "                 [0, 1, 0, 0]])\n",
    "print(r_mat)"
   ]
  },
  {
   "cell_type": "code",
   "execution_count": 8,
   "id": "cdd0ff83",
   "metadata": {},
   "outputs": [
    {
     "name": "stdout",
     "output_type": "stream",
     "text": [
      "  (0, 2)\t1\n",
      "  (0, 3)\t1\n",
      "  (1, 0)\t1\n",
      "  (1, 2)\t1\n",
      "  (2, 1)\t1\n"
     ]
    }
   ],
   "source": [
    "# convert to coo format, value 1 represent edge pairs and values \n",
    "r_mat_np_coo = sparse.coo_matrix(r_mat)\n",
    "print(r_mat_np_coo)"
   ]
  },
  {
   "cell_type": "code",
   "execution_count": 9,
   "id": "5734c8c9",
   "metadata": {},
   "outputs": [
    {
     "name": "stdout",
     "output_type": "stream",
     "text": [
      "[0 0 1 1 2]\n",
      "[2 3 0 2 1]\n"
     ]
    }
   ],
   "source": [
    "# retrieve edge index, edge index is just [row, col] from COO format\n",
    "r_mat_edge_index = [r_mat_np_coo.row, r_mat_np_coo.col]\n",
    "print(r_mat_edge_index[0])\n",
    "print(r_mat_edge_index[1])"
   ]
  },
  {
   "cell_type": "code",
   "execution_count": 10,
   "id": "310e5355",
   "metadata": {},
   "outputs": [
    {
     "name": "stdout",
     "output_type": "stream",
     "text": [
      "[[0 0 1 1]\n",
      " [1 0 1 0]\n",
      " [0 1 0 0]]\n"
     ]
    }
   ],
   "source": [
    "# convert back to list of list format for visualization\n",
    "print(r_mat_np_coo.todense())"
   ]
  },
  {
   "cell_type": "markdown",
   "id": "3f7935cb",
   "metadata": {},
   "source": [
    "# You can also do the same with Pytorch"
   ]
  },
  {
   "cell_type": "code",
   "execution_count": 12,
   "id": "5519a852",
   "metadata": {},
   "outputs": [
    {
     "data": {
      "text/plain": [
       "tensor([[0, 0, 1, 1, 2],\n",
       "        [2, 3, 0, 2, 1]])"
      ]
     },
     "execution_count": 12,
     "metadata": {},
     "output_type": "execute_result"
    }
   ],
   "source": [
    "# take edge index and convert to tensor \n",
    "r_mat_edge_index = torch.LongTensor(np.array(r_mat_edge_index))\n",
    "r_mat_edge_index"
   ]
  },
  {
   "cell_type": "code",
   "execution_count": 14,
   "id": "2b8956c7",
   "metadata": {},
   "outputs": [
    {
     "name": "stdout",
     "output_type": "stream",
     "text": [
      "SparseTensor(row=tensor([0, 0, 1, 1, 2]),\n",
      "             col=tensor([2, 3, 0, 2, 1]),\n",
      "             size=(3, 4), nnz=5, density=41.67%)\n"
     ]
    }
   ],
   "source": [
    "# store it as sparse format \n",
    "sparse_r_mat_edge_index = SparseTensor(row=r_mat_edge_index[0],\n",
    "                                      col=r_mat_edge_index[1],\n",
    "                                      sparse_sizes=(3,4))\n",
    "print(sparse_r_mat_edge_index)"
   ]
  },
  {
   "cell_type": "code",
   "execution_count": 15,
   "id": "9fd83c1e",
   "metadata": {},
   "outputs": [
    {
     "name": "stdout",
     "output_type": "stream",
     "text": [
      "tensor([[0., 0., 1., 1.],\n",
      "        [1., 0., 1., 0.],\n",
      "        [0., 1., 0., 0.]])\n"
     ]
    }
   ],
   "source": [
    "# call .to_dense to conver to list of list format \n",
    "print(sparse_r_mat_edge_index.to_dense())"
   ]
  },
  {
   "cell_type": "markdown",
   "id": "5137de1d",
   "metadata": {},
   "source": [
    "# bipartite graph"
   ]
  },
  {
   "cell_type": "code",
   "execution_count": 16,
   "id": "d522ab97",
   "metadata": {
    "scrolled": true
   },
   "outputs": [
    {
     "data": {
      "text/plain": [
       "'\\nIn bipartite graph, interaction matrix is not the same as. adjacency matrix\\nbecause. adjacency matrix. expects row index and col index to refer to \\nthe same node.\\n\\nperform the conversion between interaction matrix (r_mat) and adjacency (adj_mat)\\n    ( 0    R)\\nA = ( R_T  0)\\n\\nso if dimension of R is n_user x n_item\\nthen dimension of A is (n_user+n_item) x (n_user+n_item)\\n\\n'"
      ]
     },
     "execution_count": 16,
     "metadata": {},
     "output_type": "execute_result"
    }
   ],
   "source": [
    "'''\n",
    "In bipartite graph, interaction matrix is not the same as. adjacency matrix\n",
    "because. adjacency matrix. expects row index and col index to refer to \n",
    "the same node.\n",
    "\n",
    "perform the conversion between interaction matrix (r_mat) and adjacency (adj_mat)\n",
    "    ( 0    R)\n",
    "A = ( R_T  0)\n",
    "\n",
    "so if dimension of R is n_user x n_item\n",
    "then dimension of A is (n_user+n_item) x (n_user+n_item)\n",
    "\n",
    "'''"
   ]
  },
  {
   "cell_type": "code",
   "execution_count": 21,
   "id": "704df039",
   "metadata": {},
   "outputs": [],
   "source": [
    "# helper function \n",
    "def convert_r_mat_edge_index_to_adj_mat_edge_index(input_edge_index, row_size, col_size):\n",
    "    R = torch.zeros((row_size, col_size))\n",
    "    \n",
    "    # convert sparse coo format to dense format to get R\n",
    "    for i in range(len(input_edge_index[0])):\n",
    "        row_idx = input_edge_index[0][i]\n",
    "        col_idx = input_edge_index[1][i]\n",
    "        R[row_idx][col_idx] = 1\n",
    "    \n",
    "    # perform the r_mat to addj_mat conversion\n",
    "    R_transpose = torch.transpose(R, 0, 1)\n",
    "    adj_mat = torch.zeros((row_size + col_size, row_size + col_size))\n",
    "    adj_mat[: row_size, row_size :] = R.clone()\n",
    "    adj_mat[row_size :, : row_size] = R_transpose.clone()\n",
    "    \n",
    "    # convert from dense format back to sparse coo format so we can get the edge index of adj_mat\n",
    "    adj_mat_coo = adj_mat.to_sparse_coo()\n",
    "    adj_mat_coo = adj_mat_coo.indices()\n",
    "    return adj_mat_coo\n",
    "            \n",
    "            "
   ]
  },
  {
   "cell_type": "code",
   "execution_count": 36,
   "id": "d9dcb56a",
   "metadata": {},
   "outputs": [],
   "source": [
    "def convert_adj_mat_edge_index_to_r_mat_edge_index(input_edge_index, row_size, col_size):\n",
    "    # create a sparse tensor so we can easily do the to_dense conversion andd get a \n",
    "    # sub matrix to get R (interaction matrix) and then convert it back to sparse cool format \n",
    "    sparse_input_edge_index = SparseTensor(row=input_edge_index[0],\n",
    "                                          col=input_edge_index[1],\n",
    "                                          sparse_sizes=((row_size + col_size), row_size + col_size))\n",
    "    adj_mat = sparse_input_edge_index.to_dense()\n",
    "    interactive_mat = adj_mat[: row_size, row_size :]\n",
    "    r_mat_edge_index = interactive_mat.to_sparse_coo().indices()\n",
    "    return r_mat_edge_index"
   ]
  },
  {
   "cell_type": "code",
   "execution_count": null,
   "id": "8756faec",
   "metadata": {},
   "outputs": [],
   "source": []
  },
  {
   "cell_type": "code",
   "execution_count": 41,
   "id": "eb39a5d1",
   "metadata": {},
   "outputs": [
    {
     "name": "stdout",
     "output_type": "stream",
     "text": [
      "tensor([[0, 0, 1, 1, 2, 3, 4, 5, 5, 6],\n",
      "        [5, 6, 3, 5, 4, 1, 2, 0, 1, 0]])\n"
     ]
    }
   ],
   "source": [
    "adj_mat_edge_index = convert_r_mat_edge_index_to_adj_mat_edge_index(r_mat_edge_index, row_size=3, col_size=4)\n",
    "print(adj_mat_edge_index)"
   ]
  },
  {
   "cell_type": "code",
   "execution_count": 42,
   "id": "028ab42c",
   "metadata": {},
   "outputs": [
    {
     "name": "stdout",
     "output_type": "stream",
     "text": [
      "tensor([[0., 0., 0., 0., 0., 1., 1.],\n",
      "        [0., 0., 0., 1., 0., 1., 0.],\n",
      "        [0., 0., 0., 0., 1., 0., 0.],\n",
      "        [0., 1., 0., 0., 0., 0., 0.],\n",
      "        [0., 0., 1., 0., 0., 0., 0.],\n",
      "        [1., 1., 0., 0., 0., 0., 0.],\n",
      "        [1., 0., 0., 0., 0., 0., 0.]])\n"
     ]
    }
   ],
   "source": [
    "# convert to adjacency matrix\n",
    "adj_mat = SparseTensor(row=adj_mat_edge_index[0],\n",
    "                      col=adj_mat_edge_index[1],\n",
    "                      sparse_sizes=(3+4, 4+3))\n",
    "print(adj_mat.to_dense())"
   ]
  },
  {
   "cell_type": "code",
   "execution_count": 43,
   "id": "c24dc958",
   "metadata": {},
   "outputs": [
    {
     "name": "stdout",
     "output_type": "stream",
     "text": [
      "tensor([[0., 0., 1., 1.],\n",
      "        [1., 0., 1., 0.],\n",
      "        [0., 1., 0., 0.]])\n"
     ]
    }
   ],
   "source": [
    "# convert back \n",
    "converted_back_to_r_mat_edge_index = convert_adj_mat_edge_index_to_r_mat_edge_index(adj_mat_edge_index, 3,4)\n",
    "converted_back_to_r_mat = SparseTensor(row=converted_back_to_r_mat_edge_index[0],\n",
    "                                    col=converted_back_to_r_mat_edge_index[1],\n",
    "                                    sparse_sizes=(3,4))\n",
    "print(converted_back_to_r_mat.to_dense())"
   ]
  },
  {
   "cell_type": "code",
   "execution_count": null,
   "id": "e220ebb6",
   "metadata": {},
   "outputs": [],
   "source": []
  }
 ],
 "metadata": {
  "kernelspec": {
   "display_name": "Python 3 (ipykernel)",
   "language": "python",
   "name": "python3"
  },
  "language_info": {
   "codemirror_mode": {
    "name": "ipython",
    "version": 3
   },
   "file_extension": ".py",
   "mimetype": "text/x-python",
   "name": "python",
   "nbconvert_exporter": "python",
   "pygments_lexer": "ipython3",
   "version": "3.7.15"
  }
 },
 "nbformat": 4,
 "nbformat_minor": 5
}
