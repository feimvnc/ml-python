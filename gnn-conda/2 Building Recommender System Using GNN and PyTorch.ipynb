{
 "cells": [
  {
   "cell_type": "code",
   "execution_count": 361,
   "id": "26b0c96f",
   "metadata": {},
   "outputs": [],
   "source": [
    "import random \n",
    "from tqdm.notebook import tqdm \n",
    "import pandas as pd \n",
    "import numpy as np \n",
    "import matplotlib.pyplot as plt \n",
    "from sklearn.model_selection import train_test_split \n",
    "from sklearn import model_selection, metrics, preprocessing \n",
    "import copy \n",
    "from torch_geometric.utils import degree \n",
    "\n",
    "import torch \n",
    "from torch import nn, optim, Tensor \n",
    "\n",
    "from torch_sparse import SparseTensor, matmul\n",
    "\n",
    "from torch_geometric.utils import structured_negative_sampling\n",
    "from torch_geometric.data import download_url, extract_zip \n",
    "from torch_geometric.nn.conv.gcn_conv import gcn_norm \n",
    "from torch_geometric.nn.conv import MessagePassing \n",
    "from torch_geometric.typing import Adj \n"
   ]
  },
  {
   "cell_type": "code",
   "execution_count": 362,
   "id": "56e09527",
   "metadata": {},
   "outputs": [
    {
     "name": "stderr",
     "output_type": "stream",
     "text": [
      "Using existing file ml-latest-small.zip\n",
      "Extracting ./ml-latest-small.zip\n"
     ]
    }
   ],
   "source": [
    "# download dataset\n",
    "# https://grouplens.org/datasets/movielens/\n",
    "# \"Small: 100,000 ratings and 3,600 tag applications appliedd to \n",
    "# 9,000 movies by 600 users. Last update 9/2018\"\n",
    "url = 'https://files.grouplens.org/datasets/movielens/ml-latest-small.zip'\n",
    "extract_zip(download_url(url, '.'), '.')\n",
    "\n",
    "movie_path = './ml-latest-email/movies.csv'\n",
    "rating_path = './ml-latest-small/ratings.csv'\n",
    "user_path = './ml-latest-small/users.csv'"
   ]
  },
  {
   "cell_type": "code",
   "execution_count": 363,
   "id": "9b05538d",
   "metadata": {},
   "outputs": [
    {
     "name": "stdout",
     "output_type": "stream",
     "text": [
      "README.txt   links.csv    movies.csv   ratings.csv  tags.csv\r\n"
     ]
    }
   ],
   "source": [
    "!ls ml-latest-small\n"
   ]
  },
  {
   "cell_type": "code",
   "execution_count": 364,
   "id": "17e67f73",
   "metadata": {},
   "outputs": [
    {
     "name": "stdout",
     "output_type": "stream",
     "text": [
      "   userId  movieId  rating  timestamp\n",
      "0       1        1     4.0  964982703\n",
      "1       1        3     4.0  964981247\n",
      "2       1        6     4.0  964982224\n",
      "3       1       47     5.0  964983815\n",
      "4       1       50     5.0  964982931\n",
      "9724\n",
      "610\n"
     ]
    },
    {
     "data": {
      "text/html": [
       "<div>\n",
       "<style scoped>\n",
       "    .dataframe tbody tr th:only-of-type {\n",
       "        vertical-align: middle;\n",
       "    }\n",
       "\n",
       "    .dataframe tbody tr th {\n",
       "        vertical-align: top;\n",
       "    }\n",
       "\n",
       "    .dataframe thead th {\n",
       "        text-align: right;\n",
       "    }\n",
       "</style>\n",
       "<table border=\"1\" class=\"dataframe\">\n",
       "  <thead>\n",
       "    <tr style=\"text-align: right;\">\n",
       "      <th></th>\n",
       "      <th>userId</th>\n",
       "      <th>movieId</th>\n",
       "      <th>rating</th>\n",
       "      <th>timestamp</th>\n",
       "    </tr>\n",
       "  </thead>\n",
       "  <tbody>\n",
       "    <tr>\n",
       "      <th>count</th>\n",
       "      <td>100836.000000</td>\n",
       "      <td>100836.000000</td>\n",
       "      <td>100836.000000</td>\n",
       "      <td>1.008360e+05</td>\n",
       "    </tr>\n",
       "    <tr>\n",
       "      <th>mean</th>\n",
       "      <td>326.127564</td>\n",
       "      <td>19435.295718</td>\n",
       "      <td>3.501557</td>\n",
       "      <td>1.205946e+09</td>\n",
       "    </tr>\n",
       "    <tr>\n",
       "      <th>std</th>\n",
       "      <td>182.618491</td>\n",
       "      <td>35530.987199</td>\n",
       "      <td>1.042529</td>\n",
       "      <td>2.162610e+08</td>\n",
       "    </tr>\n",
       "    <tr>\n",
       "      <th>min</th>\n",
       "      <td>1.000000</td>\n",
       "      <td>1.000000</td>\n",
       "      <td>0.500000</td>\n",
       "      <td>8.281246e+08</td>\n",
       "    </tr>\n",
       "    <tr>\n",
       "      <th>25%</th>\n",
       "      <td>177.000000</td>\n",
       "      <td>1199.000000</td>\n",
       "      <td>3.000000</td>\n",
       "      <td>1.019124e+09</td>\n",
       "    </tr>\n",
       "    <tr>\n",
       "      <th>50%</th>\n",
       "      <td>325.000000</td>\n",
       "      <td>2991.000000</td>\n",
       "      <td>3.500000</td>\n",
       "      <td>1.186087e+09</td>\n",
       "    </tr>\n",
       "    <tr>\n",
       "      <th>75%</th>\n",
       "      <td>477.000000</td>\n",
       "      <td>8122.000000</td>\n",
       "      <td>4.000000</td>\n",
       "      <td>1.435994e+09</td>\n",
       "    </tr>\n",
       "    <tr>\n",
       "      <th>max</th>\n",
       "      <td>610.000000</td>\n",
       "      <td>193609.000000</td>\n",
       "      <td>5.000000</td>\n",
       "      <td>1.537799e+09</td>\n",
       "    </tr>\n",
       "  </tbody>\n",
       "</table>\n",
       "</div>"
      ],
      "text/plain": [
       "              userId        movieId         rating     timestamp\n",
       "count  100836.000000  100836.000000  100836.000000  1.008360e+05\n",
       "mean      326.127564   19435.295718       3.501557  1.205946e+09\n",
       "std       182.618491   35530.987199       1.042529  2.162610e+08\n",
       "min         1.000000       1.000000       0.500000  8.281246e+08\n",
       "25%       177.000000    1199.000000       3.000000  1.019124e+09\n",
       "50%       325.000000    2991.000000       3.500000  1.186087e+09\n",
       "75%       477.000000    8122.000000       4.000000  1.435994e+09\n",
       "max       610.000000  193609.000000       5.000000  1.537799e+09"
      ]
     },
     "execution_count": 364,
     "metadata": {},
     "output_type": "execute_result"
    }
   ],
   "source": [
    "# read data in pandas data frame , do a quick eda \n",
    "# due to large movieId range, not suitable for embedding lookup \n",
    "# so need to do dod some pre-processing\n",
    "rating_df = pd.read_csv(rating_path)\n",
    "\n",
    "print(rating_df.head())\n",
    "print(len(rating_df['movieId'].unique()))\n",
    "print(len(rating_df['userId'].unique()))\n",
    "rating_df.describe()"
   ]
  },
  {
   "cell_type": "code",
   "execution_count": 365,
   "id": "74aba63c",
   "metadata": {},
   "outputs": [],
   "source": [
    "# use label encoder for this purpose \n",
    "lbl_user = preprocessing.LabelEncoder()\n",
    "lbl_movie = preprocessing.LabelEncoder()\n",
    "\n",
    "rating_df.userId = lbl_user.fit_transform(rating_df.userId.values)\n",
    "rating_df.movieId = lbl_movie.fit_transform(rating_df.movieId.values)"
   ]
  },
  {
   "cell_type": "code",
   "execution_count": 366,
   "id": "673805e5",
   "metadata": {},
   "outputs": [
    {
     "name": "stdout",
     "output_type": "stream",
     "text": [
      "609\n",
      "9723\n"
     ]
    }
   ],
   "source": [
    "# print out \n",
    "print(rating_df.userId.max())\n",
    "print(rating_df.movieId.max())"
   ]
  },
  {
   "cell_type": "code",
   "execution_count": 367,
   "id": "0e721ffe",
   "metadata": {},
   "outputs": [
    {
     "data": {
      "text/plain": [
       "4.0    26818\n",
       "3.0    20047\n",
       "5.0    13211\n",
       "3.5    13136\n",
       "4.5     8551\n",
       "2.0     7551\n",
       "2.5     5550\n",
       "1.0     2811\n",
       "1.5     1791\n",
       "0.5     1370\n",
       "Name: rating, dtype: int64"
      ]
     },
     "execution_count": 367,
     "metadata": {},
     "output_type": "execute_result"
    }
   ],
   "source": [
    "# look at value distribution, check where is a good threshold value, 3.5\n",
    "rating_df.rating.value_counts()"
   ]
  },
  {
   "cell_type": "code",
   "execution_count": 368,
   "id": "6429846a",
   "metadata": {},
   "outputs": [],
   "source": [
    "# convert data frame into the edge index format\n",
    "# load edges between users and movies \n",
    "def load_edge_csv(df, \n",
    "                 src_index_col,\n",
    "                 dst_index_col,\n",
    "                 link_index_col,\n",
    "                 rating_threshold=3):\n",
    "    '''Loads csv containing edges between users and items \n",
    "    \n",
    "        Args:\n",
    "            src_inddex_col (str): column name of users \n",
    "            dst_index_col (str): column name of items \n",
    "            link_index_col (str): column name of user item interaction \n",
    "            rating_threshold (int, optional): Threshold to determine positivity fo edge, default to 4\n",
    " \n",
    "       Returns:\n",
    "            List of list: edge_index -- 2 by N matrix containing the nodde ids of N user-item edges \n",
    "            N here is the number of interactions\n",
    "'''\n",
    "    \n",
    "    edge_index=None \n",
    "\n",
    "    # Constructing C00 format edge_index from input rating events \n",
    "\n",
    "    # get user_ids from rating events in the ordder of occurance \n",
    "    src = [user_id for user_id in df['userId']]\n",
    "    # get movie_id from rating events in the order of occurance \n",
    "    dst = [(movie_id) for movie_id in df['movieId']]\n",
    "\n",
    "    # apply rating threshold \n",
    "    edge_attr = torch.from_numpy(df[link_index_col].values).view(-1, 1).to(torch.long) >= rating_threshold\n",
    "\n",
    "    edge_index = [[],[]]\n",
    "    for i in range(edge_attr.shape[0]):\n",
    "           if edge_attr[i]:\n",
    "               edge_index[0].append(src[i])\n",
    "               edge_index[1].append(dst[i])\n",
    "    return edge_index"
   ]
  },
  {
   "cell_type": "code",
   "execution_count": 369,
   "id": "6db1356d",
   "metadata": {},
   "outputs": [
    {
     "name": "stdout",
     "output_type": "stream",
     "text": [
      "2 x 48580\n"
     ]
    }
   ],
   "source": [
    "edge_index = load_edge_csv(\n",
    "    rating_df,\n",
    "    src_index_col='userId',\n",
    "    dst_index_col='movieId',\n",
    "    link_index_col='rating',\n",
    "    rating_threshold=3.5,\n",
    ")\n",
    "print(f\"{len(edge_index)} x {len(edge_index[0])}\")\n",
    "# COO, row and col for 2"
   ]
  },
  {
   "cell_type": "code",
   "execution_count": 370,
   "id": "3a167356",
   "metadata": {},
   "outputs": [
    {
     "name": "stdout",
     "output_type": "stream",
     "text": [
      "tensor([[   0,    0,    0,  ...,  609,  609,  609],\n",
      "        [   0,    2,    5,  ..., 9443, 9444, 9445]])\n",
      "torch.Size([2, 48580])\n"
     ]
    }
   ],
   "source": [
    "# Convert to tensor \n",
    "# We use LongTensor here because the .propagate() method in the model needs \n",
    "# either LongTensor or SparseTensor \n",
    "edge_index = torch.LongTensor(edge_index)\n",
    "print(edge_index)\n",
    "print(edge_index.size())"
   ]
  },
  {
   "cell_type": "code",
   "execution_count": 371,
   "id": "dd4836c3",
   "metadata": {},
   "outputs": [
    {
     "data": {
      "text/plain": [
       "(610, 9724)"
      ]
     },
     "execution_count": 371,
     "metadata": {},
     "output_type": "execute_result"
    }
   ],
   "source": [
    "# Note: this is the total num_users and num_movies before we apply the rating_threshold\n",
    "num_users = len(rating_df['userId'].unique())\n",
    "num_movies = len(rating_df['movieId'].unique())\n",
    "num_users, num_movies"
   ]
  },
  {
   "cell_type": "code",
   "execution_count": 372,
   "id": "82f77c35",
   "metadata": {},
   "outputs": [],
   "source": [
    "# do train test split \n",
    "num_interactions = edge_index.shape[1]\n",
    "\n",
    "#split the edges of the graph using a 80/10/10 train/validation/test split \n",
    "all_indices = [i for i in range(num_interactions)]\n",
    "\n",
    "train_indices, test_indices = train_test_split(all_indices,\n",
    "                                              test_size=0.2,\n",
    "                                              random_state=1)\n",
    "\n",
    "# can see in plot\n",
    "val_indices, test_indices = train_test_split(test_indices, \n",
    "                                            test_size = 0.5,\n",
    "                                            random_state=1)\n",
    "\n",
    "train_edge_index = edge_index[:, train_indices]\n",
    "val_edge_index = edge_index[:, val_indices]\n",
    "test_edge_index = edge_index[:, test_indices]\n"
   ]
  },
  {
   "cell_type": "code",
   "execution_count": 373,
   "id": "559bee20",
   "metadata": {},
   "outputs": [
    {
     "name": "stdout",
     "output_type": "stream",
     "text": [
      "num_users 610, num_movies 9724, num_interactions 48580\n",
      "train_edge_index tensor([[ 605,  110,  442,  ...,   65,  161,  427],\n",
      "        [1110, 9619, 1283,  ..., 4640,  443,  827]])\n",
      "10334\n",
      "torch.Size([609])\n",
      "torch.Size([5676])\n"
     ]
    }
   ],
   "source": [
    "print(f\"num_users {num_users}, num_movies {num_movies}, num_interactions {num_interactions}\")\n",
    "print(f\"train_edge_index {train_edge_index}\")\n",
    "print((num_users + num_movies))  # total number of nodes \n",
    "print(torch.unique(train_edge_index[0]).size())  # unique num of from nodes \n",
    "print(torch.unique(train_edge_index[1]).size())  # unique num of to nodes     "
   ]
  },
  {
   "cell_type": "code",
   "execution_count": 374,
   "id": "d3fb2657",
   "metadata": {},
   "outputs": [],
   "source": [
    "# helper function \n",
    "def convert_r_mat_edge_index_to_adj_mat_edge_index(input_edge_index):\n",
    "    R = torch.zeros(num_users, num_movies)\n",
    "    for i in range(len(input_edge_index[0])):\n",
    "        row_idx = input_edge_index[0][i]\n",
    "        col_idx = input_edge_index[1][i]\n",
    "        R[row_idx][col_idx] = 1 \n",
    "                   \n",
    "    R_transpose = torch.transpose(R, 0, 1)\n",
    "    adj_mat = torch.zeros((num_users + num_movies, num_users + num_movies))\n",
    "    adj_mat[: num_users, num_users :] = R.clone()\n",
    "    adj_mat[num_users :, : num_users] = R_transpose.clone()\n",
    "    adj_mat_coo = adj_mat.to_sparse_coo()\n",
    "    adj_mat_coo = adj_mat_coo.indices()\n",
    "    return adj_mat_coo"
   ]
  },
  {
   "cell_type": "code",
   "execution_count": 375,
   "id": "92491c06",
   "metadata": {},
   "outputs": [],
   "source": [
    "# helper function n\n",
    "def convert_adj_mat_edge_index_to_r_mat_edge_index(input_edge_index):\n",
    "    sparse_input_edge_index = SparseTensor(row=input_edge_index[0],\n",
    "                                          col=input_edge_index[1],\n",
    "                                          sparse_sizes=((num_users + num_movies), num_users+num_movies))\n",
    "    adj_mat = sparse_input_edge_index.to_dense()\n",
    "    interact_mat = adj_mat[: num_users, num_users :]\n",
    "    r_mat_edge_index = interact_mat.to_sparse_coo().indices()\n",
    "    return r_mat_edge_index"
   ]
  },
  {
   "cell_type": "code",
   "execution_count": 376,
   "id": "2a5da0ee",
   "metadata": {},
   "outputs": [],
   "source": [
    "# convert from r_mat (interaction matrix) edge index to addjacency matrix'\n",
    "# edge index so we can feedd it to model \n",
    "train_edge_index = convert_r_mat_edge_index_to_adj_mat_edge_index(train_edge_index)\n",
    "val_edge_index = convert_r_mat_edge_index_to_adj_mat_edge_index(val_edge_index)\n",
    "test_edge_index = convert_r_mat_edge_index_to_adj_mat_edge_index(test_edge_index)"
   ]
  },
  {
   "cell_type": "code",
   "execution_count": 377,
   "id": "8f9e2e36",
   "metadata": {},
   "outputs": [
    {
     "name": "stdout",
     "output_type": "stream",
     "text": [
      "tensor([[    0,     0,     0,  ..., 10326, 10327, 10333],\n",
      "        [  610,   612,   653,  ...,   183,   183,   330]])\n",
      "torch.Size([2, 77728])\n",
      "tensor([[    0,     0,     0,  ..., 10226, 10236, 10240],\n",
      "        [  615,   794,  2010,  ...,   317,   204,   413]])\n",
      "torch.Size([2, 9716])\n",
      "tensor([[    0,     0,     0,  ..., 10301, 10302, 10329],\n",
      "        [  811,  1086,  1095,  ...,   585,   585,   183]])\n",
      "torch.Size([2, 9716])\n"
     ]
    }
   ],
   "source": [
    "print(train_edge_index)\n",
    "print(train_edge_index.size())\n",
    "print(val_edge_index)\n",
    "print(val_edge_index.size())\n",
    "print(test_edge_index)\n",
    "print(test_edge_index.size())"
   ]
  },
  {
   "cell_type": "code",
   "execution_count": 378,
   "id": "0dcb21c7",
   "metadata": {},
   "outputs": [],
   "source": [
    "# helper function for training and compute BPR loss\n",
    "# since this is a self-supervised learning, we are relying on the graph \n",
    "# structure itself and we don't have label other than the graph structure \n",
    "# so we need the following function which random samples a mini-batch \n",
    "# of positive and negative samples\n",
    "def sample_mini_batch(batch_size, edge_index):\n",
    "    '''Randomly samples indices of a minibatch given an adjacency matrix\n",
    "    \n",
    "    Args:\n",
    "        batch_size (int): minibatch size \n",
    "        edge_index (torch.Tensor): 2 by N list of edges\n",
    "    Returns:\n",
    "        tuple: \n",
    "    '''\n",
    "    # structured_negative_sampling is a pyG library \n",
    "    # Samples a negative edge :obj:`(i,k)` for every positive edge \n",
    "    # :obj:`(i,j)` in the graph given by :attr:`edge_index`, and returns\n",
    "    # it as a tuple of the form :obj:`(i,j,k)\n",
    "    #\n",
    "    #    >>> edge_index = torch.as_tensor([[0, 0, 1, 2],\n",
    "    #                                      [0, 1, 2, 3]])\n",
    "    #    >>> structured_negative_sampling(edge_index)\n",
    "    #    (tensor([0, 0, 1, 2]), tensor([0, 1, 2, 3]), tensor([2, 3, 0, 2]))\n",
    "    edges = structured_negative_sampling(edge_index)\n",
    "    \n",
    "    # 3 x edge_index_len\n",
    "    edges = torch.stack(edges, dim=0)\n",
    "    \n",
    "    # here is when we actually perform the batch sample \n",
    "    # return a k sized list of population elements chosen with replacemnt \n",
    "    indices = random.choices([i for i in range(edges[0].shape[0])], k=batch_size)\n",
    "    \n",
    "    batch = edges[:, indices]\n",
    "    \n",
    "    user_indices, pos_item_indices, neg_item_indices = batch[0], batch[1], batch[2]\n",
    "    return user_indices, pos_item_indices, neg_item_indices"
   ]
  },
  {
   "cell_type": "markdown",
   "id": "815f2d8d",
   "metadata": {},
   "source": [
    "# Implement LightGCN"
   ]
  },
  {
   "cell_type": "code",
   "execution_count": 379,
   "id": "6fa855da",
   "metadata": {},
   "outputs": [],
   "source": [
    "# define LightGCN model\n",
    "class LightGCN(MessagePassing):\n",
    "    '''LightGCN Model as proposed in https://arxiv.org/aba/2002.02126\n",
    "    '''\n",
    "    def __init__(self, num_users,\n",
    "                num_items,\n",
    "                embedding_dim=64, # define the embedding vector length for each node \n",
    "                K=3,\n",
    "                add_self_loops=False):\n",
    "        '''Initialize LightGCN Model\n",
    "        \n",
    "        Args: \n",
    "            num_users (int): Number of users \n",
    "            num_items (int): Number of items \n",
    "            embedding_dim (int, optional): Dimensionality of embeddings, Default to 8\n",
    "            K (int, optional): Number of message passing layers, Default to 3\n",
    "            add_self_loops (bool, optional): Whether to add self loops for message passing, Default to False\n",
    "        '''\n",
    "        super().__init__()\n",
    "        self.num_users = num_users \n",
    "        self.num_items = num_items \n",
    "        self.embedding_dim = embedding_dim \n",
    "        self.K = K\n",
    "        self.add_self_loops = add_self_loops \n",
    "\n",
    "        # define user and item embedding for direct lookup \n",
    "        # embedding dimension: num_user/num_item x embedding_dim \n",
    "\n",
    "        self.users_emb = nn.Embedding(num_embeddings=self.num_users, embedding_dim=self.embedding_dim) # e_u^0\n",
    "        self.items_emb = nn.Embedding(num_embeddings=self.num_items, embedding_dim=self.embedding_dim) # e_i^0\n",
    "\n",
    "        # \"Fills the input Tensor with values drawn from the normal distribution\"\n",
    "        # according to LightGCN paper, this gives better performance \n",
    "        nn.init.normal_(self.users_emb.weight, std=0.1)\n",
    "        nn.init.normal_(self.items_emb.weight, std=0.1)\n",
    "\n",
    "    def forward(self, edge_index: Tensor):\n",
    "        '''Forwardd propagation of LightGCN Model \n",
    "        \n",
    "        Args:\n",
    "            eddge_index (SparseTensor): adjacency matrix\n",
    "            \n",
    "        Returns: \n",
    "            tuple (Tensor): e_u_k, e_u_0, e_i_k, e_i_0\n",
    "        '''\n",
    "        edge_index_norm = gcn_norm(edge_index=edge_index,\n",
    "                                  add_self_loops=self.add_self_loops)\n",
    "        emb_0 = torch.cat([self.users_emb.weight, self.items_emb.weight])\n",
    "        embs = [emb_0] # save the layer emb to the embs list \n",
    "        emb_k = emb_0\n",
    "        for i in range(self.K):\n",
    "            emb_k = self.propagate(edge_index=edge_index_norm[0], x=emb_k, norm=edge_index_norm[1])\n",
    "            embs.append(emb_k)\n",
    "    \n",
    "        embs = torch.stack(embs, dim=1)\n",
    "        emb_final = torch.mean(embs, dim=1)\n",
    "        \n",
    "        users_emb_final, items_emb_final = torch.split(emb_final, [self.num_users, self.num_items])\n",
    "\n",
    "        return users_emb_final, self.users_emb.weight, items_emb_final, self.items_emb.weight\n",
    "    \n",
    "    def message(self, x_j, norm):\n",
    "        return norm.view(-1, 1) * x_j\n",
    "\n",
    "    "
   ]
  },
  {
   "cell_type": "code",
   "execution_count": 380,
   "id": "8068238f",
   "metadata": {},
   "outputs": [],
   "source": [
    "#initialize the model \n",
    "layers = 3\n",
    "model = LightGCN(num_users=num_users,\n",
    "                num_items=num_movies,\n",
    "                K=layers)"
   ]
  },
  {
   "cell_type": "markdown",
   "id": "419bf839",
   "metadata": {},
   "source": [
    "# Loss function"
   ]
  },
  {
   "cell_type": "code",
   "execution_count": 381,
   "id": "64c77084",
   "metadata": {},
   "outputs": [],
   "source": [
    "def bpr_loss(users_emb_final,\n",
    "            users_emb_0,\n",
    "            pos_items_emb_final,\n",
    "            pos_items_emb_0,\n",
    "            neg_items_emb_final,\n",
    "            neg_items_emb_0,\n",
    "            lambda_val):\n",
    "    reg_loss = lambda_val * (users_emb_0.norm(2).pow(2) + \n",
    "                            pos_items_emb_0.norm(2).pow(2) +\n",
    "                            neg_items_emb_0.norm(2).pow(2))  # L2 loss\n",
    "    pos_scores = torch.mul(users_emb_final, pos_items_emb_final)\n",
    "    pos_scores = torch.sum(pos_scores, dim=-1) # predictedd score of negative samples\n",
    "    neg_scores = torch.mul(users_emb_final, neg_items_emb_final)\n",
    "    neg_scores = torch.sum(neg_scores, dim=-1) # predictedd score of negative samples\n",
    "    \n",
    "    bpr_loss = -torch.mean(torch.nn.functional.softplus(pos_scores - neg_scores))\n",
    "    \n",
    "    loss = bpr_loss + reg_loss \n",
    "    \n",
    "    return loss"
   ]
  },
  {
   "cell_type": "code",
   "execution_count": 382,
   "id": "a1974707",
   "metadata": {},
   "outputs": [],
   "source": [
    "# generate dictionary of positive items for each user \n",
    "# args: edge_index (torch.Tensor): 2 by N list of edges \n",
    "# returns: dict: user -> list of positive items for each \n",
    "def get_user_positive_items(edge_index):\n",
    "    #key: user_id, val: item_id list \n",
    "    user_pos_items = {}\n",
    "    \n",
    "    for i in range(edge_index.shape[1]):\n",
    "        user = edge_index[0][i].item()\n",
    "        item = edge_index[1][i].item()\n",
    "        \n",
    "        if user not in user_pos_items:\n",
    "            user_pos_items[user] = []\n",
    "            \n",
    "        user_pos_items[user].append(item)\n",
    "    return user_pos_items"
   ]
  },
  {
   "cell_type": "code",
   "execution_count": 383,
   "id": "06f1952d",
   "metadata": {},
   "outputs": [],
   "source": [
    "# compute recall@K andd precision@K\n",
    "# args: \n",
    "# groundTruth: (list[list[long]]): list of lists of item_ids, containing highly rated items of each user\n",
    "#              in other words, this is the list of true_relevant_items for each user \n",
    "# r: (list[list[boolean]]): list of lists indicating whether each top k item recommended ot each user \n",
    "# k: (int): determine the top k items to compute precision and recall on \n",
    "# return: tuple: recall @ k, precision @ k \n",
    "\n",
    "def RecallPrecision_AtK(groundTruth, r, k):\n",
    "    # number of correctly predictionn items per user\n",
    "    # -1 here means I want to sum at the inner most dimensions\n",
    "    num_correct_pred = torch.sum(r, dim=-1)\n",
    "    # number of items liked by each user in nthe test set \n",
    "    user_num_liked = torch.Tensor([len(groundTruth[i]) for i in range(len(groundTruth))])\n",
    "    \n",
    "    recall = torch.mean(num_correct_pred / user_num_liked)\n",
    "    precision = torch.mean(num_correct_pred) / k \n",
    "    return recall.item(), precision.item()"
   ]
  },
  {
   "cell_type": "code",
   "execution_count": 384,
   "id": "584d2487",
   "metadata": {},
   "outputs": [],
   "source": [
    "# compute NDCG@K, Normalized Discounted Cululative Gain (NDCG) @ k\n",
    "# \n",
    "# args: \n",
    "# groundTruth (list): list of lists containing highly rated items of each user \n",
    "# r (list): list of lists indicating whether each top k item recommended to each user\n",
    "#           is a top k ground truth item or not \n",
    "# k (int): determines the top k items to compute ndcg on \n",
    "#\n",
    "# returns: \n",
    "# float: ndcg @ k\n",
    "#\n",
    "def NDCGatK_r(groundTruth, r, k):\n",
    "    assert len(r) == len(groundTruth)\n",
    "    test_matrix = torch.zeros([len(r), k])\n",
    "    for i, items in enumerate(groundTruth):\n",
    "        length = min(len(items), k)\n",
    "        test_matrix[i, :length] = 1\n",
    "    max_r = test_matrix\n",
    "    idcg = torch.sum(max_r + 1. / torch.log2(torch.arange(2, k + 2)), axis=1)\n",
    "    dcg = r * (1. / torch.log2(torch.arange(2, k + 2)))\n",
    "    dcg = torch.sum(dcg, axis=1)\n",
    "    idcg[idcg == 0.] = 1.\n",
    "    ndcg = dcg / idcg \n",
    "    ndcg[torch.isnan(ndcg)] = 0 \n",
    "    return torch.mean(ndcg).item()\n",
    "\n",
    "    \n",
    "    "
   ]
  },
  {
   "cell_type": "code",
   "execution_count": 385,
   "id": "5c8ce9ee",
   "metadata": {},
   "outputs": [],
   "source": [
    "# wrapper function to get evaluation matrics \n",
    "# compute the evaluation metrics: recall, precision, and ndcg @ k \n",
    "# args: \n",
    "#     model (LightGCN): lightgcn model\n",
    "#     edge_index (torch.Tensor): 2 by N list of edges for split to evaluate \n",
    "#     exclude_edge_indices ([type]): 2 by N list of edges for split to discount from evaluatio \n",
    "#     k (int): determines the top k items to compute metrics on \n",
    "# returns:\n",
    "#     tuple: recall @ k, precision @ k, ndcg @ k\n",
    "def get_metrics(model, \n",
    "               input_edge_index, # adj_mat based edge index\n",
    "               input_exclude_edge_indices, #adj_mat based exclude edge inde \n",
    "               k):\n",
    "    # get the embeding tensor at layer 0 after training \n",
    "    user_embedding = model.users_emb.weight\n",
    "    item_embedding = model.items_emb.weight \n",
    "    \n",
    "    # convert adj_mat basedd edge index to r_mat basedd edge index so we have \n",
    "    # the first list being user_idds and second list being item_ids for the edge index \n",
    "    edge_index = convert_adj_mat_edge_index_to_r_mat_edge_index(input_edge_index)\n",
    "    \n",
    "    # This is to exclude the edges we above seen before in our predictedd interaction matrix (r_mat_rating)\n",
    "    # e.g. for validation set, we want to exclude all the edges in training set \n",
    "    exclude_edge_indices = [convert_adj_mat_edge_index_to_r_mat_edge_index(exclude_edge_index) \\\n",
    "                           for exclude_edge_index in input_exclude_edge_indices]\n",
    "    \n",
    "    # Generate predicted interaction matrix (r_mat_rating)\n",
    "    # (num_users x 64) dot_product (num_item x 64).T\n",
    "    r_mat_rating = torch.matmul(user_embedding, item_embedding.T)\n",
    "    \n",
    "    # shape: num_users x num_item\n",
    "    rating = r_mat_rating\n",
    "    \n",
    "    for exclude_edge_index in exclude_edge_indices:\n",
    "        # gets all the positive items for each user from the edge index \n",
    "        # it's a dict: user -> positive item list \n",
    "        user_pos_items = get_user_positive_items(exclude_edge_index)\n",
    "        \n",
    "        # get coordinates of all edges to exclude \n",
    "        exclude_users = []\n",
    "        exclude_items = []\n",
    "        for user,items in user_pos_items.items():\n",
    "            # [user] * len(item) can give us [user1, use1, user1...] with len of len(item)\n",
    "            # this makes easier to do the masking below \n",
    "            exclude_users.extend([user] * len(items))\n",
    "            exclude_items.extend(items)\n",
    "        # set the excluded entry in the rat_mat_rating matrix to a very small number \n",
    "        rating[exclude_users, exclude_items] = -(1 << 10)\n",
    "    # get the top k recommended items for each user \n",
    "    _, top_K_items = torch.topk(rating, k=k)\n",
    "    \n",
    "    # get all unique users in evaluated split \n",
    "    users = edge_index[0].unique()\n",
    "    \n",
    "    # dict of user -> pos_item list \n",
    "    test_user_pos_items = get_user_positive_items(edge_index)\n",
    "    \n",
    "    # convert test user pos items dictionary into a list of lists \n",
    "    test_user_pos_items_list = [test_user_pos_items[user.item()] for user in users] \n",
    "    \n",
    "    # r here is \"pred_relevant_items n actually_relevant_items\" list for each user \n",
    "    r = []\n",
    "    for user in users:\n",
    "        user_true_relevant_item = test_user_pos_items[user.item()]\n",
    "        # list of Booleans to store whether or not a given item in the top_K_items for a given user \n",
    "        # is also present in user_true_relevant_item \n",
    "        # this is later on used to compute n_rel_and_rec_k \n",
    "        label = list(map(lambda x: x in user_true_relevant_item, top_K_items[user]))\n",
    "        r.append(label)\n",
    "        \n",
    "    r = torch.Tensor(np.array(r).astype('float'))\n",
    "    \n",
    "    recall, precision = RecallPrecision_AtK(test_user_pos_items_list, r, k)\n",
    "    ndcg = NDCGatK_r(test_user_pos_items_list, r, k)\n",
    "    \n",
    "    return recall, precision, ndcg\n",
    "    "
   ]
  },
  {
   "cell_type": "code",
   "execution_count": 386,
   "id": "b377e7b7",
   "metadata": {},
   "outputs": [],
   "source": [
    "# wrappeer function to evaluate model \n",
    "''' Evaluate model loss and metrics including recall, precision, ndcg @ k\n",
    "\n",
    "    args:\n",
    "        model: (LightGCN), lightGCN, model\n",
    "        edge_index (torch.Tensor): 2 by N list of edges for split to evaluate \n",
    "        sparse_edge_index (sparseTensor): sparse adjacency matrix for split to evaluate \n",
    "        exclude_edge_indices ([type]): 2 by N list of edges for split to discount from evaluation \n",
    "        k (int): determins the top k items to compute metrics on \n",
    "        lambda_val (float): determine lambda for bpr loss\n",
    "    returns:\n",
    "        tuple: bpr loss, recall @ k, precision @ k, ndcg @ k \n",
    "    '''\n",
    "def evaluation(model,\n",
    "              edge_index, # adj_mat based edge index \n",
    "              exclude_edge_indices, # adj_mat based exclude edge index \n",
    "              k, \n",
    "              lambda_val\n",
    "              ):\n",
    "    # get embeddings\n",
    "    users_emb_final, users_emb_0, items_emb_final, items_emb_0 = model.forward(edge_index)\n",
    "    r_mat_edge_index = convert_adj_mat_edge_index_to_r_mat_edge_index(edge_index)\n",
    "    edges = structured_negative_sampling(r_mat_edge_index, contains_neg_self_loops=False)\n",
    "    user_indices, pos_item_indices, neg_item_indices = edges[0], edges[1], edges[2]\n",
    "    users_emb_final, users_emb_0 = users_emb_final[user_indices], users_emb_0[user_indices]\n",
    "    pos_items_emb_final, pos_items_emb_0 = items_emb_final[pos_item_indices], items_emb_0[pos_item_indices]\n",
    "    neg_items_emb_final, neg_items_emb_0 = items_emb_final[neg_item_indices], items_emb_0[neg_item_indices]\n",
    "    \n",
    "    loss = bpr_loss(users_emb_final, \n",
    "                   users_emb_0,\n",
    "                   pos_items_emb_final,\n",
    "                   pos_items_emb_0,\n",
    "                   neg_items_emb_final,\n",
    "                   neg_items_emb_0,\n",
    "                   lambda_val).item()\n",
    "    recall, precision, ndcg = get_metrics(model, \n",
    "                                         edge_index,\n",
    "                                         exclude_edge_indices,\n",
    "                                         k)\n",
    "    return loss, recall, precision, ndcg"
   ]
  },
  {
   "cell_type": "markdown",
   "id": "497ed2bc",
   "metadata": {},
   "source": [
    "# Training\n",
    "Your test set performance should be in line with the following (K=20):\n",
    "Recall@K 0.13, Precision@K: 0.045; NDCG@K:0.10\n",
    "        "
   ]
  },
  {
   "cell_type": "code",
   "execution_count": 403,
   "id": "dddd2bf2",
   "metadata": {},
   "outputs": [],
   "source": [
    "# define constants \n",
    "#ITERATIONS = 10000\n",
    "#ITERATIONS = 500\n",
    "EPOCHS = 10\n",
    "ITERATIONS = 500\n",
    "BATCH_SIZE = 1024\n",
    "LR = 1e-3\n",
    "ITERS_PER_EVAL = 200\n",
    "ITERS_PER_LR_DECAY = 200\n",
    "K = 20\n",
    "LAMBDA = 1e-5\n",
    "# LAMBDA = 1/2"
   ]
  },
  {
   "cell_type": "code",
   "execution_count": 404,
   "id": "c937689d",
   "metadata": {},
   "outputs": [
    {
     "name": "stdout",
     "output_type": "stream",
     "text": [
      "Using device cpu.\n"
     ]
    }
   ],
   "source": [
    "# setup \n",
    "device = torch.device('cuda' if torch.cuda.is_available() else 'cpu')\n",
    "print(f\"Using device {device}.\")\n",
    "\n",
    "model = model.to(device)\n",
    "model.train()\n",
    "\n",
    "optimizer = optim.Adam(model.parameters(), lr=LR)\n",
    "scheduler = optim.lr_scheduler.ExponentialLR(optimizer, gamma=0.95)\n",
    "\n",
    "edge_index = edge_index.to(device)\n",
    "train_edge_index = train_edge_index.to(device)\n",
    "val_edge_index = val_edge_index.to(device)\n"
   ]
  },
  {
   "cell_type": "code",
   "execution_count": 405,
   "id": "002cb076",
   "metadata": {},
   "outputs": [],
   "source": [
    "def get_embs_for_bpr(model, input_edge_index):\n",
    "    users_emb_final, users_emb_0, items_emb_final, items_emb_0 = model.forward(input_edge_index)\n",
    "    \n",
    "    edge_index_to_use = convert_adj_mat_edge_index_to_r_mat_edge_index(input_edge_index)\n",
    "    \n",
    "    # mini batching for eval and calculate loss \n",
    "    user_indices, pos_item_indices, neg_item_indices = sample_mini_batch(BATCH_SIZE, edge_index_to_use)\n",
    "    \n",
    "    # This is to push tensor to device so fi we use GPU\n",
    "    user_indices, pos_item_indices, neg_item_indices = user_indices.to(device), pos_item_indices.to(device), neg_item_indices.to(device)\n",
    "    \n",
    "    # we needd layer0 embeddings andd the final embeddings (computedd from 0...K layer) for BPR loss computing \n",
    "    users_emb_final, users_emb_0 = users_emb_final[user_indices], users_emb_0[user_indices]\n",
    "    pos_items_emb_final, pos_items_emb_0 = items_emb_final[pos_item_indices], items_emb_0[pos_item_indices]\n",
    "    neg_items_emb_final, neg_items_emb_0 = items_emb_final[neg_item_indices], items_emb_0[neg_item_indices]\n",
    "    \n",
    "    return users_emb_final, users_emb_0, pos_items_emb_final, pos_items_emb_0, neg_items_emb_final, neg_items_emb_0"
   ]
  },
  {
   "cell_type": "code",
   "execution_count": 406,
   "id": "1df6139d",
   "metadata": {},
   "outputs": [
    {
     "data": {
      "application/vnd.jupyter.widget-view+json": {
       "model_id": "ea3fcd7ce0704b038def92dfd3cc414b",
       "version_major": 2,
       "version_minor": 0
      },
      "text/plain": [
       "  0%|          | 0/500 [00:00<?, ?it/s]"
      ]
     },
     "metadata": {},
     "output_type": "display_data"
    },
    {
     "name": "stdout",
     "output_type": "stream",
     "text": [
      "[Iteration 0/500] train_loss: -1.97078 val_loss: -1.39213             val_recall: 0.03746 val_precision: 0.01447 val_ndcg 0.00553\n",
      "[Iteration 200/500] train_loss: -11.68912 val_loss: -7.47             val_recall: 0.06147 val_precision: 0.02224 val_ndcg 0.01071\n",
      "[Iteration 400/500] train_loss: -32.40762 val_loss: -21.39549             val_recall: 0.08977 val_precision: 0.0311 val_ndcg 0.01487\n"
     ]
    }
   ],
   "source": [
    "# training loop \n",
    "train_losses = []\n",
    "val_losses = []\n",
    "val_recall_at_ks = []\n",
    "\n",
    "for iter in tqdm(range(ITERATIONS)):\n",
    "    # forward propagation\n",
    "    users_emb_final, users_emb_0, pos_items_emb_final, pos_items_emb_0, neg_items_emb_final, neg_items_emb_0 = get_embs_for_bpr(model, train_edge_index)\n",
    "    \n",
    "    # loss computation\n",
    "    train_loss = bpr_loss(users_emb_final,\n",
    "                         users_emb_0,\n",
    "                         pos_items_emb_final,\n",
    "                         pos_items_emb_0,\n",
    "                         neg_items_emb_final,\n",
    "                         neg_items_emb_0,\n",
    "                         LAMBDA)\n",
    "    \n",
    "    optimizer.zero_grad()\n",
    "    train_loss.backward()\n",
    "    optimizer.step()\n",
    "    \n",
    "    # validation set \n",
    "    if iter % ITERS_PER_EVAL == 0:\n",
    "        model.eval()\n",
    "        \n",
    "        with torch.no_grad():\n",
    "            val_loss, recall, precision, ndcg = evaluation(model, \n",
    "                                                          val_edge_index, \n",
    "                                                          [train_edge_index],\n",
    "                                                          K,\n",
    "                                                          LAMBDA\n",
    "                                                          )\n",
    "            #print(f\"[Iteration {iter}/{ITERATIONS}] train_loss: {round(train_loss.item(), 5)}, val_loss: {round(val_loss.item(), 5)}\")\n",
    "            print(f\"[Iteration {iter}/{ITERATIONS}] train_loss: {round(train_loss.item(), 5)} val_loss: {round((val_loss), 5)} \\\n",
    "            val_recall: {round(recall, 5)} val_precision: {round(precision, 5)} val_ndcg {round(ndcg, 5)}\")\n",
    "            # print(round((val_loss), 5))\n",
    "            # train_loss: {round(train_loss.item(), 5)}, val_loss: {round(val_loss.item(), 5)}\")\n",
    "\n",
    "            train_losses.append(train_loss.item())\n",
    "            val_losses.append(val_loss)\n",
    "            val_recall_at_ks.append(round(recall, 5))\n",
    "            \n",
    "        model.train()\n",
    "        \n",
    "    if iter % ITERS_PER_LR_DECAY == 0 and iter != 0:\n",
    "        scheduler.step()"
   ]
  },
  {
   "cell_type": "code",
   "execution_count": 407,
   "id": "bcbb5c3c",
   "metadata": {},
   "outputs": [
    {
     "data": {
      "image/png": "[encoded data removed]",
      "text/plain": [
       "<Figure size 640x480 with 1 Axes>"
      ]
     },
     "metadata": {},
     "output_type": "display_data"
    }
   ],
   "source": [
    "# Let's plot it \n",
    "iters = [iter * ITERS_PER_EVAL for iter in range(len(train_losses))]\n",
    "plt.plot(iters, train_losses, label='train')\n",
    "plt.plot(iters, val_losses, label='validation')\n",
    "plt.xlabel('iteration')\n",
    "plt.ylabel('loss')\n",
    "plt.title('training and validation loss curves')\n",
    "plt.legend()\n",
    "plt.show()"
   ]
  },
  {
   "cell_type": "code",
   "execution_count": 408,
   "id": "88ec6932",
   "metadata": {},
   "outputs": [
    {
     "data": {
      "image/png": "[encoded data removed]",
      "text/plain": [
       "<Figure size 640x480 with 1 Axes>"
      ]
     },
     "metadata": {},
     "output_type": "display_data"
    }
   ],
   "source": [
    "# recall_at_k curves, line is not curve due to small number of trainings\n",
    "f2 = plt.figure()\n",
    "plt.plot(iters, val_recall_at_ks, label='recall_at_k')\n",
    "plt.xlabel('iteration')\n",
    "plt.ylabel('recall_at_k')\n",
    "plt.title('recall_at_k curve')\n",
    "plt.show()"
   ]
  },
  {
   "cell_type": "code",
   "execution_count": 412,
   "id": "d07e5ac0",
   "metadata": {},
   "outputs": [
    {
     "name": "stdout",
     "output_type": "stream",
     "text": [
      "[test loss: -30.56348, test_recall@20: 0.10539, test_precision@20 0.03469, test_ndcg@20 0.01663]\n"
     ]
    }
   ],
   "source": [
    "# evaluate on test set \n",
    "model.eval()\n",
    "test_edge_index = test_edge_index.to(device)\n",
    "test_loss, test_recall, test_precision, test_ndcg = evaluation(model,\n",
    "                                                              test_edge_index,\n",
    "                                                              [train_edge_index, val_edge_index],\n",
    "                                                              K,\n",
    "                                                              LAMBDA\n",
    "                                                              )\n",
    "print(f\"[test loss: {round(test_loss, 5)}, test_recall@{K}: {round(test_recall, 5)}, test_precision@{K} {round(test_precision, 5)}, test_ndcg@{K} {round(test_ndcg, 5)}]\")"
   ]
  },
  {
   "cell_type": "code",
   "execution_count": null,
   "id": "3f8611c6",
   "metadata": {},
   "outputs": [],
   "source": []
  }
 ],
 "metadata": {
  "kernelspec": {
   "display_name": "Python 3 (ipykernel)",
   "language": "python",
   "name": "python3"
  },
  "language_info": {
   "codemirror_mode": {
    "name": "ipython",
    "version": 3
   },
   "file_extension": ".py",
   "mimetype": "text/x-python",
   "name": "python",
   "nbconvert_exporter": "python",
   "pygments_lexer": "ipython3",
   "version": "3.7.15"
  }
 },
 "nbformat": 4,
 "nbformat_minor": 5
}
